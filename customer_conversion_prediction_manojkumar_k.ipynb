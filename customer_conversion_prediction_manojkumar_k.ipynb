{
  "cells": [
    {
      "cell_type": "markdown",
      "metadata": {
        "id": "view-in-github",
        "colab_type": "text"
      },
      "source": [
        "<a href=\"https://colab.research.google.com/gist/manojkumark04/3aea390869ac779d4fe3e062f18909a3/customer_conversion_prediction_manojkumar_k.ipynb\" target=\"_parent\"><img src=\"https://colab.research.google.com/assets/colab-badge.svg\" alt=\"Open In Colab\"/></a>"
      ]
    },
    {
      "cell_type": "code",
      "source": [
        "from google.colab import drive\n",
        "drive.mount('/content/drive')"
      ],
      "metadata": {
        "colab": {
          "base_uri": "https://localhost:8080/"
        },
        "id": "GVfMCY1YbewL",
        "outputId": "1ea2eeb7-a4c2-4891-8986-971e8501a237"
      },
      "id": "GVfMCY1YbewL",
      "execution_count": 5,
      "outputs": [
        {
          "output_type": "stream",
          "name": "stdout",
          "text": [
            "Drive already mounted at /content/drive; to attempt to forcibly remount, call drive.mount(\"/content/drive\", force_remount=True).\n"
          ]
        }
      ]
    },
    {
      "cell_type": "code",
      "execution_count": 6,
      "id": "8b5455d2",
      "metadata": {
        "id": "8b5455d2"
      },
      "outputs": [],
      "source": [
        "import pandas as pd\n",
        "import numpy as np\n",
        "import matplotlib.pyplot as plt\n",
        "import seaborn as sns\n",
        "from sklearn.model_selection import train_test_split, cross_val_score\n",
        "from sklearn.preprocessing import StandardScaler\n",
        "from sklearn.linear_model import LogisticRegression\n",
        "from sklearn.tree import DecisionTreeClassifier\n",
        "from sklearn import tree\n",
        "from sklearn.ensemble import RandomForestClassifier, GradientBoostingClassifier, VotingClassifier\n",
        "from sklearn.neighbors import KNeighborsClassifier\n",
        "from xgboost import XGBClassifier\n",
        "from sklearn.metrics import confusion_matrix, classification_report, roc_curve, roc_auc_score, auc, accuracy_score\n",
        "from sklearn.preprocessing import LabelEncoder, OneHotEncoder\n",
        "from datetime import datetime, timedelta\n",
        "from scipy.stats import zscore\n",
        "from scipy.stats import iqr "
      ]
    },
    {
      "cell_type": "code",
      "execution_count": 7,
      "id": "244047fe",
      "metadata": {
        "id": "244047fe"
      },
      "outputs": [],
      "source": [
        "df = pd.read_csv(\"/content/drive/MyDrive/FINAL PROJECTS/Customer_Conversion_Prediction_train.csv\")"
      ]
    },
    {
      "cell_type": "code",
      "execution_count": 8,
      "id": "5178594e",
      "metadata": {
        "colab": {
          "base_uri": "https://localhost:8080/",
          "height": 300
        },
        "id": "5178594e",
        "outputId": "7c31dfd7-ab62-47ad-9cd6-b17f24ef4afd"
      },
      "outputs": [
        {
          "output_type": "execute_result",
          "data": {
            "text/plain": [
              "                age           day           dur     num_calls\n",
              "count  45211.000000  45211.000000  45211.000000  45211.000000\n",
              "mean      40.936210     15.806419    258.163080      2.763841\n",
              "std       10.618762      8.322476    257.527812      3.098021\n",
              "min       18.000000      1.000000      0.000000      1.000000\n",
              "25%       33.000000      8.000000    103.000000      1.000000\n",
              "50%       39.000000     16.000000    180.000000      2.000000\n",
              "75%       48.000000     21.000000    319.000000      3.000000\n",
              "max       95.000000     31.000000   4918.000000     63.000000"
            ],
            "text/html": [
              "\n",
              "  <div id=\"df-50f204dd-2806-4a2a-b76a-f1a15756da9b\">\n",
              "    <div class=\"colab-df-container\">\n",
              "      <div>\n",
              "<style scoped>\n",
              "    .dataframe tbody tr th:only-of-type {\n",
              "        vertical-align: middle;\n",
              "    }\n",
              "\n",
              "    .dataframe tbody tr th {\n",
              "        vertical-align: top;\n",
              "    }\n",
              "\n",
              "    .dataframe thead th {\n",
              "        text-align: right;\n",
              "    }\n",
              "</style>\n",
              "<table border=\"1\" class=\"dataframe\">\n",
              "  <thead>\n",
              "    <tr style=\"text-align: right;\">\n",
              "      <th></th>\n",
              "      <th>age</th>\n",
              "      <th>day</th>\n",
              "      <th>dur</th>\n",
              "      <th>num_calls</th>\n",
              "    </tr>\n",
              "  </thead>\n",
              "  <tbody>\n",
              "    <tr>\n",
              "      <th>count</th>\n",
              "      <td>45211.000000</td>\n",
              "      <td>45211.000000</td>\n",
              "      <td>45211.000000</td>\n",
              "      <td>45211.000000</td>\n",
              "    </tr>\n",
              "    <tr>\n",
              "      <th>mean</th>\n",
              "      <td>40.936210</td>\n",
              "      <td>15.806419</td>\n",
              "      <td>258.163080</td>\n",
              "      <td>2.763841</td>\n",
              "    </tr>\n",
              "    <tr>\n",
              "      <th>std</th>\n",
              "      <td>10.618762</td>\n",
              "      <td>8.322476</td>\n",
              "      <td>257.527812</td>\n",
              "      <td>3.098021</td>\n",
              "    </tr>\n",
              "    <tr>\n",
              "      <th>min</th>\n",
              "      <td>18.000000</td>\n",
              "      <td>1.000000</td>\n",
              "      <td>0.000000</td>\n",
              "      <td>1.000000</td>\n",
              "    </tr>\n",
              "    <tr>\n",
              "      <th>25%</th>\n",
              "      <td>33.000000</td>\n",
              "      <td>8.000000</td>\n",
              "      <td>103.000000</td>\n",
              "      <td>1.000000</td>\n",
              "    </tr>\n",
              "    <tr>\n",
              "      <th>50%</th>\n",
              "      <td>39.000000</td>\n",
              "      <td>16.000000</td>\n",
              "      <td>180.000000</td>\n",
              "      <td>2.000000</td>\n",
              "    </tr>\n",
              "    <tr>\n",
              "      <th>75%</th>\n",
              "      <td>48.000000</td>\n",
              "      <td>21.000000</td>\n",
              "      <td>319.000000</td>\n",
              "      <td>3.000000</td>\n",
              "    </tr>\n",
              "    <tr>\n",
              "      <th>max</th>\n",
              "      <td>95.000000</td>\n",
              "      <td>31.000000</td>\n",
              "      <td>4918.000000</td>\n",
              "      <td>63.000000</td>\n",
              "    </tr>\n",
              "  </tbody>\n",
              "</table>\n",
              "</div>\n",
              "      <button class=\"colab-df-convert\" onclick=\"convertToInteractive('df-50f204dd-2806-4a2a-b76a-f1a15756da9b')\"\n",
              "              title=\"Convert this dataframe to an interactive table.\"\n",
              "              style=\"display:none;\">\n",
              "        \n",
              "  <svg xmlns=\"http://www.w3.org/2000/svg\" height=\"24px\"viewBox=\"0 0 24 24\"\n",
              "       width=\"24px\">\n",
              "    <path d=\"M0 0h24v24H0V0z\" fill=\"none\"/>\n",
              "    <path d=\"M18.56 5.44l.94 2.06.94-2.06 2.06-.94-2.06-.94-.94-2.06-.94 2.06-2.06.94zm-11 1L8.5 8.5l.94-2.06 2.06-.94-2.06-.94L8.5 2.5l-.94 2.06-2.06.94zm10 10l.94 2.06.94-2.06 2.06-.94-2.06-.94-.94-2.06-.94 2.06-2.06.94z\"/><path d=\"M17.41 7.96l-1.37-1.37c-.4-.4-.92-.59-1.43-.59-.52 0-1.04.2-1.43.59L10.3 9.45l-7.72 7.72c-.78.78-.78 2.05 0 2.83L4 21.41c.39.39.9.59 1.41.59.51 0 1.02-.2 1.41-.59l7.78-7.78 2.81-2.81c.8-.78.8-2.07 0-2.86zM5.41 20L4 18.59l7.72-7.72 1.47 1.35L5.41 20z\"/>\n",
              "  </svg>\n",
              "      </button>\n",
              "      \n",
              "  <style>\n",
              "    .colab-df-container {\n",
              "      display:flex;\n",
              "      flex-wrap:wrap;\n",
              "      gap: 12px;\n",
              "    }\n",
              "\n",
              "    .colab-df-convert {\n",
              "      background-color: #E8F0FE;\n",
              "      border: none;\n",
              "      border-radius: 50%;\n",
              "      cursor: pointer;\n",
              "      display: none;\n",
              "      fill: #1967D2;\n",
              "      height: 32px;\n",
              "      padding: 0 0 0 0;\n",
              "      width: 32px;\n",
              "    }\n",
              "\n",
              "    .colab-df-convert:hover {\n",
              "      background-color: #E2EBFA;\n",
              "      box-shadow: 0px 1px 2px rgba(60, 64, 67, 0.3), 0px 1px 3px 1px rgba(60, 64, 67, 0.15);\n",
              "      fill: #174EA6;\n",
              "    }\n",
              "\n",
              "    [theme=dark] .colab-df-convert {\n",
              "      background-color: #3B4455;\n",
              "      fill: #D2E3FC;\n",
              "    }\n",
              "\n",
              "    [theme=dark] .colab-df-convert:hover {\n",
              "      background-color: #434B5C;\n",
              "      box-shadow: 0px 1px 3px 1px rgba(0, 0, 0, 0.15);\n",
              "      filter: drop-shadow(0px 1px 2px rgba(0, 0, 0, 0.3));\n",
              "      fill: #FFFFFF;\n",
              "    }\n",
              "  </style>\n",
              "\n",
              "      <script>\n",
              "        const buttonEl =\n",
              "          document.querySelector('#df-50f204dd-2806-4a2a-b76a-f1a15756da9b button.colab-df-convert');\n",
              "        buttonEl.style.display =\n",
              "          google.colab.kernel.accessAllowed ? 'block' : 'none';\n",
              "\n",
              "        async function convertToInteractive(key) {\n",
              "          const element = document.querySelector('#df-50f204dd-2806-4a2a-b76a-f1a15756da9b');\n",
              "          const dataTable =\n",
              "            await google.colab.kernel.invokeFunction('convertToInteractive',\n",
              "                                                     [key], {});\n",
              "          if (!dataTable) return;\n",
              "\n",
              "          const docLinkHtml = 'Like what you see? Visit the ' +\n",
              "            '<a target=\"_blank\" href=https://colab.research.google.com/notebooks/data_table.ipynb>data table notebook</a>'\n",
              "            + ' to learn more about interactive tables.';\n",
              "          element.innerHTML = '';\n",
              "          dataTable['output_type'] = 'display_data';\n",
              "          await google.colab.output.renderOutput(dataTable, element);\n",
              "          const docLink = document.createElement('div');\n",
              "          docLink.innerHTML = docLinkHtml;\n",
              "          element.appendChild(docLink);\n",
              "        }\n",
              "      </script>\n",
              "    </div>\n",
              "  </div>\n",
              "  "
            ]
          },
          "metadata": {},
          "execution_count": 8
        }
      ],
      "source": [
        "df.describe()"
      ]
    },
    {
      "cell_type": "code",
      "execution_count": 9,
      "id": "3da806ec",
      "metadata": {
        "scrolled": true,
        "colab": {
          "base_uri": "https://localhost:8080/"
        },
        "id": "3da806ec",
        "outputId": "fd9fdb1e-53a9-4889-93a7-b069e474e253"
      },
      "outputs": [
        {
          "output_type": "execute_result",
          "data": {
            "text/plain": [
              "['age',\n",
              " 'job',\n",
              " 'marital',\n",
              " 'education_qual',\n",
              " 'call_type',\n",
              " 'day',\n",
              " 'mon',\n",
              " 'dur',\n",
              " 'num_calls',\n",
              " 'prev_outcome',\n",
              " 'y']"
            ]
          },
          "metadata": {},
          "execution_count": 9
        }
      ],
      "source": [
        "cols = df.columns.to_list()\n",
        "cols"
      ]
    },
    {
      "cell_type": "code",
      "execution_count": 10,
      "id": "bcd2f58f",
      "metadata": {
        "colab": {
          "base_uri": "https://localhost:8080/"
        },
        "id": "bcd2f58f",
        "outputId": "fbce6799-f77e-4540-fa9c-1f364ae9c489"
      },
      "outputs": [
        {
          "output_type": "execute_result",
          "data": {
            "text/plain": [
              "age               0\n",
              "job               0\n",
              "marital           0\n",
              "education_qual    0\n",
              "call_type         0\n",
              "day               0\n",
              "mon               0\n",
              "dur               0\n",
              "num_calls         0\n",
              "prev_outcome      0\n",
              "y                 0\n",
              "dtype: int64"
            ]
          },
          "metadata": {},
          "execution_count": 10
        }
      ],
      "source": [
        "df.isnull().sum()"
      ]
    },
    {
      "cell_type": "code",
      "execution_count": 11,
      "id": "a93ba039",
      "metadata": {
        "scrolled": true,
        "colab": {
          "base_uri": "https://localhost:8080/"
        },
        "id": "a93ba039",
        "outputId": "1bce9b6e-0ff9-460d-c6aa-19a629529c7b"
      },
      "outputs": [
        {
          "output_type": "execute_result",
          "data": {
            "text/plain": [
              "age                int64\n",
              "job               object\n",
              "marital           object\n",
              "education_qual    object\n",
              "call_type         object\n",
              "day                int64\n",
              "mon               object\n",
              "dur                int64\n",
              "num_calls          int64\n",
              "prev_outcome      object\n",
              "y                 object\n",
              "dtype: object"
            ]
          },
          "metadata": {},
          "execution_count": 11
        }
      ],
      "source": [
        "df.dtypes"
      ]
    },
    {
      "cell_type": "code",
      "execution_count": 12,
      "id": "bcdad184",
      "metadata": {
        "colab": {
          "base_uri": "https://localhost:8080/"
        },
        "id": "bcdad184",
        "outputId": "c4710e1e-3db5-41be-f12c-8ec7b111f33a"
      },
      "outputs": [
        {
          "output_type": "execute_result",
          "data": {
            "text/plain": [
              "(45211, 11)"
            ]
          },
          "metadata": {},
          "execution_count": 12
        }
      ],
      "source": [
        "df.shape"
      ]
    },
    {
      "cell_type": "code",
      "execution_count": 13,
      "id": "a2451460",
      "metadata": {
        "colab": {
          "base_uri": "https://localhost:8080/",
          "height": 237
        },
        "id": "a2451460",
        "outputId": "e4caf4b5-41cf-4e9f-c96e-48039c4ed2bd"
      },
      "outputs": [
        {
          "output_type": "execute_result",
          "data": {
            "text/plain": [
              "       age          job  marital education_qual call_type  day  mon  dur  \\\n",
              "6893    34     services  married      secondary   unknown   28  may  124   \n",
              "8138    29       admin.   single      secondary   unknown    2  jun  121   \n",
              "11630   39  blue-collar  married        primary   unknown   19  jun  112   \n",
              "13400   36  blue-collar  married      secondary  cellular    9  jul  183   \n",
              "19826   36   management  married       tertiary  cellular    8  aug   75   \n",
              "19854   32   technician   single       tertiary  cellular    8  aug   31   \n",
              "\n",
              "       num_calls prev_outcome   y  \n",
              "6893           1      unknown  no  \n",
              "8138           4      unknown  no  \n",
              "11630          4      unknown  no  \n",
              "13400          1      unknown  no  \n",
              "19826          2      unknown  no  \n",
              "19854          2      unknown  no  "
            ],
            "text/html": [
              "\n",
              "  <div id=\"df-bc9ccf97-3220-441b-b3c6-4216f25e843b\">\n",
              "    <div class=\"colab-df-container\">\n",
              "      <div>\n",
              "<style scoped>\n",
              "    .dataframe tbody tr th:only-of-type {\n",
              "        vertical-align: middle;\n",
              "    }\n",
              "\n",
              "    .dataframe tbody tr th {\n",
              "        vertical-align: top;\n",
              "    }\n",
              "\n",
              "    .dataframe thead th {\n",
              "        text-align: right;\n",
              "    }\n",
              "</style>\n",
              "<table border=\"1\" class=\"dataframe\">\n",
              "  <thead>\n",
              "    <tr style=\"text-align: right;\">\n",
              "      <th></th>\n",
              "      <th>age</th>\n",
              "      <th>job</th>\n",
              "      <th>marital</th>\n",
              "      <th>education_qual</th>\n",
              "      <th>call_type</th>\n",
              "      <th>day</th>\n",
              "      <th>mon</th>\n",
              "      <th>dur</th>\n",
              "      <th>num_calls</th>\n",
              "      <th>prev_outcome</th>\n",
              "      <th>y</th>\n",
              "    </tr>\n",
              "  </thead>\n",
              "  <tbody>\n",
              "    <tr>\n",
              "      <th>6893</th>\n",
              "      <td>34</td>\n",
              "      <td>services</td>\n",
              "      <td>married</td>\n",
              "      <td>secondary</td>\n",
              "      <td>unknown</td>\n",
              "      <td>28</td>\n",
              "      <td>may</td>\n",
              "      <td>124</td>\n",
              "      <td>1</td>\n",
              "      <td>unknown</td>\n",
              "      <td>no</td>\n",
              "    </tr>\n",
              "    <tr>\n",
              "      <th>8138</th>\n",
              "      <td>29</td>\n",
              "      <td>admin.</td>\n",
              "      <td>single</td>\n",
              "      <td>secondary</td>\n",
              "      <td>unknown</td>\n",
              "      <td>2</td>\n",
              "      <td>jun</td>\n",
              "      <td>121</td>\n",
              "      <td>4</td>\n",
              "      <td>unknown</td>\n",
              "      <td>no</td>\n",
              "    </tr>\n",
              "    <tr>\n",
              "      <th>11630</th>\n",
              "      <td>39</td>\n",
              "      <td>blue-collar</td>\n",
              "      <td>married</td>\n",
              "      <td>primary</td>\n",
              "      <td>unknown</td>\n",
              "      <td>19</td>\n",
              "      <td>jun</td>\n",
              "      <td>112</td>\n",
              "      <td>4</td>\n",
              "      <td>unknown</td>\n",
              "      <td>no</td>\n",
              "    </tr>\n",
              "    <tr>\n",
              "      <th>13400</th>\n",
              "      <td>36</td>\n",
              "      <td>blue-collar</td>\n",
              "      <td>married</td>\n",
              "      <td>secondary</td>\n",
              "      <td>cellular</td>\n",
              "      <td>9</td>\n",
              "      <td>jul</td>\n",
              "      <td>183</td>\n",
              "      <td>1</td>\n",
              "      <td>unknown</td>\n",
              "      <td>no</td>\n",
              "    </tr>\n",
              "    <tr>\n",
              "      <th>19826</th>\n",
              "      <td>36</td>\n",
              "      <td>management</td>\n",
              "      <td>married</td>\n",
              "      <td>tertiary</td>\n",
              "      <td>cellular</td>\n",
              "      <td>8</td>\n",
              "      <td>aug</td>\n",
              "      <td>75</td>\n",
              "      <td>2</td>\n",
              "      <td>unknown</td>\n",
              "      <td>no</td>\n",
              "    </tr>\n",
              "    <tr>\n",
              "      <th>19854</th>\n",
              "      <td>32</td>\n",
              "      <td>technician</td>\n",
              "      <td>single</td>\n",
              "      <td>tertiary</td>\n",
              "      <td>cellular</td>\n",
              "      <td>8</td>\n",
              "      <td>aug</td>\n",
              "      <td>31</td>\n",
              "      <td>2</td>\n",
              "      <td>unknown</td>\n",
              "      <td>no</td>\n",
              "    </tr>\n",
              "  </tbody>\n",
              "</table>\n",
              "</div>\n",
              "      <button class=\"colab-df-convert\" onclick=\"convertToInteractive('df-bc9ccf97-3220-441b-b3c6-4216f25e843b')\"\n",
              "              title=\"Convert this dataframe to an interactive table.\"\n",
              "              style=\"display:none;\">\n",
              "        \n",
              "  <svg xmlns=\"http://www.w3.org/2000/svg\" height=\"24px\"viewBox=\"0 0 24 24\"\n",
              "       width=\"24px\">\n",
              "    <path d=\"M0 0h24v24H0V0z\" fill=\"none\"/>\n",
              "    <path d=\"M18.56 5.44l.94 2.06.94-2.06 2.06-.94-2.06-.94-.94-2.06-.94 2.06-2.06.94zm-11 1L8.5 8.5l.94-2.06 2.06-.94-2.06-.94L8.5 2.5l-.94 2.06-2.06.94zm10 10l.94 2.06.94-2.06 2.06-.94-2.06-.94-.94-2.06-.94 2.06-2.06.94z\"/><path d=\"M17.41 7.96l-1.37-1.37c-.4-.4-.92-.59-1.43-.59-.52 0-1.04.2-1.43.59L10.3 9.45l-7.72 7.72c-.78.78-.78 2.05 0 2.83L4 21.41c.39.39.9.59 1.41.59.51 0 1.02-.2 1.41-.59l7.78-7.78 2.81-2.81c.8-.78.8-2.07 0-2.86zM5.41 20L4 18.59l7.72-7.72 1.47 1.35L5.41 20z\"/>\n",
              "  </svg>\n",
              "      </button>\n",
              "      \n",
              "  <style>\n",
              "    .colab-df-container {\n",
              "      display:flex;\n",
              "      flex-wrap:wrap;\n",
              "      gap: 12px;\n",
              "    }\n",
              "\n",
              "    .colab-df-convert {\n",
              "      background-color: #E8F0FE;\n",
              "      border: none;\n",
              "      border-radius: 50%;\n",
              "      cursor: pointer;\n",
              "      display: none;\n",
              "      fill: #1967D2;\n",
              "      height: 32px;\n",
              "      padding: 0 0 0 0;\n",
              "      width: 32px;\n",
              "    }\n",
              "\n",
              "    .colab-df-convert:hover {\n",
              "      background-color: #E2EBFA;\n",
              "      box-shadow: 0px 1px 2px rgba(60, 64, 67, 0.3), 0px 1px 3px 1px rgba(60, 64, 67, 0.15);\n",
              "      fill: #174EA6;\n",
              "    }\n",
              "\n",
              "    [theme=dark] .colab-df-convert {\n",
              "      background-color: #3B4455;\n",
              "      fill: #D2E3FC;\n",
              "    }\n",
              "\n",
              "    [theme=dark] .colab-df-convert:hover {\n",
              "      background-color: #434B5C;\n",
              "      box-shadow: 0px 1px 3px 1px rgba(0, 0, 0, 0.15);\n",
              "      filter: drop-shadow(0px 1px 2px rgba(0, 0, 0, 0.3));\n",
              "      fill: #FFFFFF;\n",
              "    }\n",
              "  </style>\n",
              "\n",
              "      <script>\n",
              "        const buttonEl =\n",
              "          document.querySelector('#df-bc9ccf97-3220-441b-b3c6-4216f25e843b button.colab-df-convert');\n",
              "        buttonEl.style.display =\n",
              "          google.colab.kernel.accessAllowed ? 'block' : 'none';\n",
              "\n",
              "        async function convertToInteractive(key) {\n",
              "          const element = document.querySelector('#df-bc9ccf97-3220-441b-b3c6-4216f25e843b');\n",
              "          const dataTable =\n",
              "            await google.colab.kernel.invokeFunction('convertToInteractive',\n",
              "                                                     [key], {});\n",
              "          if (!dataTable) return;\n",
              "\n",
              "          const docLinkHtml = 'Like what you see? Visit the ' +\n",
              "            '<a target=\"_blank\" href=https://colab.research.google.com/notebooks/data_table.ipynb>data table notebook</a>'\n",
              "            + ' to learn more about interactive tables.';\n",
              "          element.innerHTML = '';\n",
              "          dataTable['output_type'] = 'display_data';\n",
              "          await google.colab.output.renderOutput(dataTable, element);\n",
              "          const docLink = document.createElement('div');\n",
              "          docLink.innerHTML = docLinkHtml;\n",
              "          element.appendChild(docLink);\n",
              "        }\n",
              "      </script>\n",
              "    </div>\n",
              "  </div>\n",
              "  "
            ]
          },
          "metadata": {},
          "execution_count": 13
        }
      ],
      "source": [
        "df[df.duplicated()]"
      ]
    },
    {
      "cell_type": "code",
      "execution_count": 14,
      "id": "2361946f",
      "metadata": {
        "id": "2361946f"
      },
      "outputs": [],
      "source": [
        "df = df.drop(df[df.duplicated()].index)"
      ]
    },
    {
      "cell_type": "code",
      "execution_count": 15,
      "id": "455cc375",
      "metadata": {
        "colab": {
          "base_uri": "https://localhost:8080/"
        },
        "id": "455cc375",
        "outputId": "931ba768-b662-40bc-975a-6a31bc0543b8"
      },
      "outputs": [
        {
          "output_type": "execute_result",
          "data": {
            "text/plain": [
              "(45205, 11)"
            ]
          },
          "metadata": {},
          "execution_count": 15
        }
      ],
      "source": [
        "df.shape"
      ]
    },
    {
      "cell_type": "markdown",
      "id": "3687c8af",
      "metadata": {
        "id": "3687c8af"
      },
      "source": [
        "# age column data cleaning"
      ]
    },
    {
      "cell_type": "code",
      "execution_count": 16,
      "id": "2d0b129d",
      "metadata": {
        "colab": {
          "base_uri": "https://localhost:8080/"
        },
        "id": "2d0b129d",
        "outputId": "e6bb51cf-e933-4084-93c4-1702fae0f2e6"
      },
      "outputs": [
        {
          "output_type": "execute_result",
          "data": {
            "text/plain": [
              "32    2084\n",
              "31    1996\n",
              "33    1972\n",
              "34    1929\n",
              "35    1894\n",
              "      ... \n",
              "93       2\n",
              "90       2\n",
              "95       2\n",
              "88       2\n",
              "94       1\n",
              "Name: age, Length: 77, dtype: int64"
            ]
          },
          "metadata": {},
          "execution_count": 16
        }
      ],
      "source": [
        "(df[\"age\"].value_counts())"
      ]
    },
    {
      "cell_type": "code",
      "execution_count": 17,
      "id": "e2dfc739",
      "metadata": {
        "colab": {
          "base_uri": "https://localhost:8080/"
        },
        "id": "e2dfc739",
        "outputId": "7621a3ac-591c-49a2-b63b-1eac9e471aaf"
      },
      "outputs": [
        {
          "output_type": "execute_result",
          "data": {
            "text/plain": [
              "0"
            ]
          },
          "metadata": {},
          "execution_count": 17
        }
      ],
      "source": [
        "df[\"age\"].isnull().sum()"
      ]
    },
    {
      "cell_type": "markdown",
      "id": "7c171123",
      "metadata": {
        "id": "7c171123"
      },
      "source": [
        "# job column data cleaning"
      ]
    },
    {
      "cell_type": "code",
      "execution_count": 18,
      "id": "5c8e3720",
      "metadata": {
        "colab": {
          "base_uri": "https://localhost:8080/"
        },
        "id": "5c8e3720",
        "outputId": "5921e46b-183d-44e9-9e12-95c3074dd2a3"
      },
      "outputs": [
        {
          "output_type": "execute_result",
          "data": {
            "text/plain": [
              "array(['management', 'technician', 'entrepreneur', 'blue-collar',\n",
              "       'unknown', 'retired', 'admin.', 'services', 'self-employed',\n",
              "       'unemployed', 'housemaid', 'student'], dtype=object)"
            ]
          },
          "metadata": {},
          "execution_count": 18
        }
      ],
      "source": [
        "df[\"job\"].unique()"
      ]
    },
    {
      "cell_type": "code",
      "execution_count": 19,
      "id": "e4c4a088",
      "metadata": {
        "colab": {
          "base_uri": "https://localhost:8080/"
        },
        "id": "e4c4a088",
        "outputId": "5b2dc990-233d-489f-c7ea-cb2044543fff"
      },
      "outputs": [
        {
          "output_type": "execute_result",
          "data": {
            "text/plain": [
              "blue-collar      9730\n",
              "management       9457\n",
              "technician       7596\n",
              "admin.           5170\n",
              "services         4153\n",
              "retired          2264\n",
              "self-employed    1579\n",
              "entrepreneur     1487\n",
              "unemployed       1303\n",
              "housemaid        1240\n",
              "student           938\n",
              "unknown           288\n",
              "Name: job, dtype: int64"
            ]
          },
          "metadata": {},
          "execution_count": 19
        }
      ],
      "source": [
        "(df[\"job\"].value_counts())"
      ]
    },
    {
      "cell_type": "markdown",
      "id": "52b8d26c",
      "metadata": {
        "id": "52b8d26c"
      },
      "source": [
        "# Filling missing job column value with mode"
      ]
    },
    {
      "cell_type": "code",
      "execution_count": 20,
      "id": "62369f05",
      "metadata": {
        "id": "62369f05"
      },
      "outputs": [],
      "source": [
        "df[\"job\"] = df[\"job\"].replace(\"unknown\", df[\"job\"].value_counts().index[0])"
      ]
    },
    {
      "cell_type": "code",
      "execution_count": 21,
      "id": "aa15831a",
      "metadata": {
        "colab": {
          "base_uri": "https://localhost:8080/"
        },
        "id": "aa15831a",
        "outputId": "baf697ad-a5e3-49c2-cead-7ea89eb59a01"
      },
      "outputs": [
        {
          "output_type": "execute_result",
          "data": {
            "text/plain": [
              "married     27210\n",
              "single      12788\n",
              "divorced     5207\n",
              "Name: marital, dtype: int64"
            ]
          },
          "metadata": {},
          "execution_count": 21
        }
      ],
      "source": [
        "df[\"marital\"].value_counts()"
      ]
    },
    {
      "cell_type": "code",
      "execution_count": 22,
      "id": "9cec8723",
      "metadata": {
        "colab": {
          "base_uri": "https://localhost:8080/"
        },
        "id": "9cec8723",
        "outputId": "25af3fe5-f884-47c7-8cc2-857924dcaa1c"
      },
      "outputs": [
        {
          "output_type": "execute_result",
          "data": {
            "text/plain": [
              "0"
            ]
          },
          "metadata": {},
          "execution_count": 22
        }
      ],
      "source": [
        "df[\"marital\"].isnull().sum()"
      ]
    },
    {
      "cell_type": "markdown",
      "id": "d655cbd2",
      "metadata": {
        "id": "d655cbd2"
      },
      "source": [
        "# education_qual column data cleaning"
      ]
    },
    {
      "cell_type": "code",
      "execution_count": 23,
      "id": "36378a1f",
      "metadata": {
        "scrolled": true,
        "colab": {
          "base_uri": "https://localhost:8080/"
        },
        "id": "36378a1f",
        "outputId": "28f78f85-fd0f-4504-88ce-31f686cfadce"
      },
      "outputs": [
        {
          "output_type": "execute_result",
          "data": {
            "text/plain": [
              "secondary    23199\n",
              "tertiary     13299\n",
              "primary       6850\n",
              "unknown       1857\n",
              "Name: education_qual, dtype: int64"
            ]
          },
          "metadata": {},
          "execution_count": 23
        }
      ],
      "source": [
        "df[\"education_qual\"].value_counts()"
      ]
    },
    {
      "cell_type": "markdown",
      "id": "327dd15e",
      "metadata": {
        "id": "327dd15e"
      },
      "source": [
        "# Filling missing education_qual column values with mode"
      ]
    },
    {
      "cell_type": "code",
      "execution_count": 24,
      "id": "e9b3e25b",
      "metadata": {
        "id": "e9b3e25b"
      },
      "outputs": [],
      "source": [
        "df[\"education_qual\"] = df[\"education_qual\"].replace(\"unknown\", df[\"education_qual\"].value_counts().index[0])"
      ]
    },
    {
      "cell_type": "code",
      "execution_count": 25,
      "id": "d9f37b11",
      "metadata": {
        "colab": {
          "base_uri": "https://localhost:8080/"
        },
        "id": "d9f37b11",
        "outputId": "59c5c914-91af-427c-a7a9-59d96d4a9ec4"
      },
      "outputs": [
        {
          "output_type": "execute_result",
          "data": {
            "text/plain": [
              "0"
            ]
          },
          "metadata": {},
          "execution_count": 25
        }
      ],
      "source": [
        "df[\"education_qual\"].isnull().sum()"
      ]
    },
    {
      "cell_type": "markdown",
      "id": "c928ad0b",
      "metadata": {
        "id": "c928ad0b"
      },
      "source": [
        "# call_type  column data cleaning "
      ]
    },
    {
      "cell_type": "code",
      "execution_count": 26,
      "id": "c8b4f72e",
      "metadata": {
        "colab": {
          "base_uri": "https://localhost:8080/"
        },
        "id": "c8b4f72e",
        "outputId": "982640c4-7b7d-4d28-8e0b-599e19fd8274"
      },
      "outputs": [
        {
          "output_type": "execute_result",
          "data": {
            "text/plain": [
              "cellular     29282\n",
              "unknown      13017\n",
              "telephone     2906\n",
              "Name: call_type, dtype: int64"
            ]
          },
          "metadata": {},
          "execution_count": 26
        }
      ],
      "source": [
        "df[\"call_type\"].value_counts()"
      ]
    },
    {
      "cell_type": "code",
      "execution_count": 27,
      "id": "b7056b64",
      "metadata": {
        "colab": {
          "base_uri": "https://localhost:8080/"
        },
        "id": "b7056b64",
        "outputId": "bba2a270-2e13-48b8-a1fb-ff160731a353"
      },
      "outputs": [
        {
          "output_type": "execute_result",
          "data": {
            "text/plain": [
              "0"
            ]
          },
          "metadata": {},
          "execution_count": 27
        }
      ],
      "source": [
        "df[\"call_type\"].isnull().sum()"
      ]
    },
    {
      "cell_type": "markdown",
      "id": "3d84c7a2",
      "metadata": {
        "id": "3d84c7a2"
      },
      "source": [
        "# day column data cleaning "
      ]
    },
    {
      "cell_type": "code",
      "execution_count": 28,
      "id": "da1244ec",
      "metadata": {
        "colab": {
          "base_uri": "https://localhost:8080/"
        },
        "id": "da1244ec",
        "outputId": "725fdd3a-f762-4ec7-bee7-3f8c9d8a22d2"
      },
      "outputs": [
        {
          "output_type": "execute_result",
          "data": {
            "text/plain": [
              "20    2752\n",
              "18    2308\n",
              "21    2026\n",
              "17    1939\n",
              "6     1932\n",
              "5     1910\n",
              "14    1848\n",
              "8     1840\n",
              "28    1829\n",
              "7     1817\n",
              "19    1756\n",
              "29    1745\n",
              "15    1703\n",
              "12    1603\n",
              "13    1585\n",
              "30    1566\n",
              "9     1560\n",
              "11    1479\n",
              "4     1445\n",
              "16    1415\n",
              "2     1292\n",
              "27    1121\n",
              "3     1079\n",
              "26    1035\n",
              "23     939\n",
              "22     905\n",
              "25     840\n",
              "31     643\n",
              "10     524\n",
              "24     447\n",
              "1      322\n",
              "Name: day, dtype: int64"
            ]
          },
          "metadata": {},
          "execution_count": 28
        }
      ],
      "source": [
        "df[\"day\"].value_counts()"
      ]
    },
    {
      "cell_type": "code",
      "execution_count": 29,
      "id": "52aa6f3b",
      "metadata": {
        "colab": {
          "base_uri": "https://localhost:8080/"
        },
        "id": "52aa6f3b",
        "outputId": "05b79fa0-57aa-4a7d-8614-29215944c7ee"
      },
      "outputs": [
        {
          "output_type": "execute_result",
          "data": {
            "text/plain": [
              "0"
            ]
          },
          "metadata": {},
          "execution_count": 29
        }
      ],
      "source": [
        "df[\"day\"].isnull().sum()"
      ]
    },
    {
      "cell_type": "markdown",
      "id": "017dfcc2",
      "metadata": {
        "id": "017dfcc2"
      },
      "source": [
        "# mon column data cleaning "
      ]
    },
    {
      "cell_type": "code",
      "execution_count": 30,
      "id": "f58ec93a",
      "metadata": {
        "colab": {
          "base_uri": "https://localhost:8080/"
        },
        "id": "f58ec93a",
        "outputId": "93ace112-7922-4986-d2ae-22ce1ab776c2"
      },
      "outputs": [
        {
          "output_type": "execute_result",
          "data": {
            "text/plain": [
              "may    13765\n",
              "jul     6894\n",
              "aug     6245\n",
              "jun     5339\n",
              "nov     3970\n",
              "apr     2932\n",
              "feb     2649\n",
              "jan     1403\n",
              "oct      738\n",
              "sep      579\n",
              "mar      477\n",
              "dec      214\n",
              "Name: mon, dtype: int64"
            ]
          },
          "metadata": {},
          "execution_count": 30
        }
      ],
      "source": [
        "df[\"mon\"].value_counts()"
      ]
    },
    {
      "cell_type": "code",
      "execution_count": 31,
      "id": "e5313938",
      "metadata": {
        "colab": {
          "base_uri": "https://localhost:8080/"
        },
        "id": "e5313938",
        "outputId": "cf61833d-5430-46bf-c00c-dfbad46ae287"
      },
      "outputs": [
        {
          "output_type": "execute_result",
          "data": {
            "text/plain": [
              "0"
            ]
          },
          "metadata": {},
          "execution_count": 31
        }
      ],
      "source": [
        "df[\"mon\"].isnull().sum()"
      ]
    },
    {
      "cell_type": "markdown",
      "id": "77bcdf9b",
      "metadata": {
        "id": "77bcdf9b"
      },
      "source": [
        "# prev_outcome column data cleaning "
      ]
    },
    {
      "cell_type": "code",
      "execution_count": 32,
      "id": "2fe026e1",
      "metadata": {
        "colab": {
          "base_uri": "https://localhost:8080/"
        },
        "id": "2fe026e1",
        "outputId": "b79c8ab3-8585-45d1-86d6-0a4362f6d54a"
      },
      "outputs": [
        {
          "output_type": "execute_result",
          "data": {
            "text/plain": [
              "unknown    36953\n",
              "failure     4901\n",
              "other       1840\n",
              "success     1511\n",
              "Name: prev_outcome, dtype: int64"
            ]
          },
          "metadata": {},
          "execution_count": 32
        }
      ],
      "source": [
        "df[\"prev_outcome\"].value_counts()"
      ]
    },
    {
      "cell_type": "code",
      "execution_count": 33,
      "id": "3e111227",
      "metadata": {
        "colab": {
          "base_uri": "https://localhost:8080/"
        },
        "id": "3e111227",
        "outputId": "3f9f59d3-abc8-49fa-8a0f-2bf197186a2b"
      },
      "outputs": [
        {
          "output_type": "execute_result",
          "data": {
            "text/plain": [
              "0"
            ]
          },
          "metadata": {},
          "execution_count": 33
        }
      ],
      "source": [
        "df[\"prev_outcome\"].isnull().sum()"
      ]
    },
    {
      "cell_type": "markdown",
      "id": "6611bbf3",
      "metadata": {
        "id": "6611bbf3"
      },
      "source": [
        "# target column data cleaning"
      ]
    },
    {
      "cell_type": "code",
      "execution_count": 34,
      "id": "86b17886",
      "metadata": {
        "colab": {
          "base_uri": "https://localhost:8080/"
        },
        "id": "86b17886",
        "outputId": "70122a03-2bce-47b5-bb45-3ada2a5774e4"
      },
      "outputs": [
        {
          "output_type": "execute_result",
          "data": {
            "text/plain": [
              "no     39916\n",
              "yes     5289\n",
              "Name: y, dtype: int64"
            ]
          },
          "metadata": {},
          "execution_count": 34
        }
      ],
      "source": [
        "df[\"y\"].value_counts()"
      ]
    },
    {
      "cell_type": "code",
      "execution_count": 35,
      "id": "e2b3f299",
      "metadata": {
        "colab": {
          "base_uri": "https://localhost:8080/"
        },
        "id": "e2b3f299",
        "outputId": "e05089f0-5111-4979-be7c-2ad8abdb7c3a"
      },
      "outputs": [
        {
          "output_type": "execute_result",
          "data": {
            "text/plain": [
              "0"
            ]
          },
          "metadata": {},
          "execution_count": 35
        }
      ],
      "source": [
        "df[\"y\"].isnull().sum()"
      ]
    },
    {
      "cell_type": "code",
      "execution_count": 36,
      "id": "9b622718",
      "metadata": {
        "scrolled": true,
        "colab": {
          "base_uri": "https://localhost:8080/"
        },
        "id": "9b622718",
        "outputId": "e4e8bfdd-66db-42ab-bf06-7b48153960e3"
      },
      "outputs": [
        {
          "output_type": "execute_result",
          "data": {
            "text/plain": [
              "age                int64\n",
              "job               object\n",
              "marital           object\n",
              "education_qual    object\n",
              "call_type         object\n",
              "day                int64\n",
              "mon               object\n",
              "dur                int64\n",
              "num_calls          int64\n",
              "prev_outcome      object\n",
              "y                 object\n",
              "dtype: object"
            ]
          },
          "metadata": {},
          "execution_count": 36
        }
      ],
      "source": [
        "df.dtypes"
      ]
    },
    {
      "cell_type": "code",
      "execution_count": 37,
      "id": "a1ec0400",
      "metadata": {
        "colab": {
          "base_uri": "https://localhost:8080/"
        },
        "id": "a1ec0400",
        "outputId": "b5c34c92-7403-4092-cf83-0d3d4de96d42"
      },
      "outputs": [
        {
          "output_type": "execute_result",
          "data": {
            "text/plain": [
              "age               0\n",
              "job               0\n",
              "marital           0\n",
              "education_qual    0\n",
              "call_type         0\n",
              "day               0\n",
              "mon               0\n",
              "dur               0\n",
              "num_calls         0\n",
              "prev_outcome      0\n",
              "y                 0\n",
              "dtype: int64"
            ]
          },
          "metadata": {},
          "execution_count": 37
        }
      ],
      "source": [
        "df.isnull().sum()"
      ]
    },
    {
      "cell_type": "code",
      "execution_count": 38,
      "id": "06112756",
      "metadata": {
        "colab": {
          "base_uri": "https://localhost:8080/"
        },
        "id": "06112756",
        "outputId": "19210e19-17e9-4349-aa3e-e7e5743e5880"
      },
      "outputs": [
        {
          "output_type": "stream",
          "name": "stdout",
          "text": [
            "<class 'pandas.core.frame.DataFrame'>\n",
            "Int64Index: 45205 entries, 0 to 45210\n",
            "Data columns (total 11 columns):\n",
            " #   Column          Non-Null Count  Dtype \n",
            "---  ------          --------------  ----- \n",
            " 0   age             45205 non-null  int64 \n",
            " 1   job             45205 non-null  object\n",
            " 2   marital         45205 non-null  object\n",
            " 3   education_qual  45205 non-null  object\n",
            " 4   call_type       45205 non-null  object\n",
            " 5   day             45205 non-null  int64 \n",
            " 6   mon             45205 non-null  object\n",
            " 7   dur             45205 non-null  int64 \n",
            " 8   num_calls       45205 non-null  int64 \n",
            " 9   prev_outcome    45205 non-null  object\n",
            " 10  y               45205 non-null  object\n",
            "dtypes: int64(4), object(7)\n",
            "memory usage: 4.1+ MB\n"
          ]
        }
      ],
      "source": [
        "df.info()"
      ]
    },
    {
      "cell_type": "markdown",
      "id": "34b1401e",
      "metadata": {
        "id": "34b1401e"
      },
      "source": [
        "# EDA"
      ]
    },
    {
      "cell_type": "code",
      "execution_count": 39,
      "id": "2e101392",
      "metadata": {
        "id": "2e101392"
      },
      "outputs": [],
      "source": [
        "df[\"target\"] = df[\"y\"].map({\"yes\":1, \"no\":0})"
      ]
    },
    {
      "cell_type": "code",
      "execution_count": 40,
      "id": "a4117dad",
      "metadata": {
        "colab": {
          "base_uri": "https://localhost:8080/",
          "height": 340
        },
        "id": "a4117dad",
        "outputId": "174435de-0ef0-4da4-c01f-be95d2080c18"
      },
      "outputs": [
        {
          "output_type": "display_data",
          "data": {
            "text/plain": [
              "<Figure size 432x288 with 1 Axes>"
            ],
            "image/png": "[encoded data removed]"
          },
          "metadata": {
            "needs_background": "light"
          }
        }
      ],
      "source": [
        "df_job = pd.DataFrame(df.job.value_counts()).sort_values(\"job\", ascending = False).reset_index()\n",
        "df_job.rename(columns = {\"index\":\"jobs\",\"job\" : \"count\"}, inplace = True)\n",
        "bar = sns.barplot(x = df_job[\"jobs\"], y =df_job[\"count\"], data = df_job)\n",
        "bar.tick_params(axis = \"x\", rotation = 90)"
      ]
    },
    {
      "cell_type": "code",
      "execution_count": 67,
      "id": "32982b73",
      "metadata": {
        "colab": {
          "base_uri": "https://localhost:8080/",
          "height": 282
        },
        "id": "32982b73",
        "outputId": "d7f06e3b-ecdd-4ba6-a174-5052f79c0f92"
      },
      "outputs": [
        {
          "output_type": "display_data",
          "data": {
            "text/plain": [
              "<Figure size 432x288 with 1 Axes>"
            ],
            "image/png": "[encoded data removed]"
          },
          "metadata": {
            "needs_background": "light"
          }
        }
      ],
      "source": [
        "job = sns.countplot(data=df, x = \"job\", hue = \"y\")\n",
        "job.tick_params(axis = \"x\", rotation = 90)\n"
      ]
    },
    {
      "cell_type": "markdown",
      "id": "23af2970",
      "metadata": {
        "id": "23af2970"
      },
      "source": [
        "# target encoding job column"
      ]
    },
    {
      "cell_type": "code",
      "execution_count": 43,
      "id": "7d584a6b",
      "metadata": {
        "colab": {
          "base_uri": "https://localhost:8080/",
          "height": 282
        },
        "id": "7d584a6b",
        "outputId": "5af13ae3-6fd4-4b99-bd10-c376e960b143"
      },
      "outputs": [
        {
          "output_type": "execute_result",
          "data": {
            "text/plain": [
              "<AxesSubplot:ylabel='job'>"
            ]
          },
          "metadata": {},
          "execution_count": 43
        },
        {
          "output_type": "display_data",
          "data": {
            "text/plain": [
              "<Figure size 432x288 with 1 Axes>"
            ],
            "image/png": "[encoded data removed]"
          },
          "metadata": {
            "needs_background": "light"
          }
        }
      ],
      "source": [
        "(df.groupby(\"job\")[\"target\"].mean()*100).sort_values().plot(kind = \"barh\") # subscribed % of job people"
      ]
    },
    {
      "cell_type": "code",
      "execution_count": 45,
      "id": "7619368f",
      "metadata": {
        "id": "7619368f"
      },
      "outputs": [],
      "source": [
        "df[\"job\"] = df[\"job\"].replace({\"student\":0,\"retired\":1,\"unemployed\":2, \"management\":3, \"admin.\":4, \"self-employed\":5,\"technician\":6,\"services\":7, \"housemaid\":8,\"entrepreneur\":9,\"blue-collar\":10})"
      ]
    },
    {
      "cell_type": "code",
      "execution_count": 46,
      "id": "6df2896d",
      "metadata": {
        "colab": {
          "base_uri": "https://localhost:8080/"
        },
        "id": "6df2896d",
        "outputId": "0b0f0b96-2395-4f54-87b7-6f91da1ed45d"
      },
      "outputs": [
        {
          "output_type": "execute_result",
          "data": {
            "text/plain": [
              "0         3\n",
              "1         6\n",
              "2         9\n",
              "3        10\n",
              "4        10\n",
              "         ..\n",
              "45206     6\n",
              "45207     1\n",
              "45208     1\n",
              "45209    10\n",
              "45210     9\n",
              "Name: job, Length: 45205, dtype: int64"
            ]
          },
          "metadata": {},
          "execution_count": 46
        }
      ],
      "source": [
        "df[\"job\"]"
      ]
    },
    {
      "cell_type": "markdown",
      "id": "4748de4f",
      "metadata": {
        "id": "4748de4f"
      },
      "source": [
        "# target encoding marital column"
      ]
    },
    {
      "cell_type": "code",
      "execution_count": 47,
      "id": "3c9c360f",
      "metadata": {
        "colab": {
          "base_uri": "https://localhost:8080/",
          "height": 282
        },
        "id": "3c9c360f",
        "outputId": "ec5ce565-b1fd-4046-9041-229f2cf4372d"
      },
      "outputs": [
        {
          "output_type": "execute_result",
          "data": {
            "text/plain": [
              "<AxesSubplot:ylabel='marital'>"
            ]
          },
          "metadata": {},
          "execution_count": 47
        },
        {
          "output_type": "display_data",
          "data": {
            "text/plain": [
              "<Figure size 432x288 with 1 Axes>"
            ],
            "image/png": "[encoded data removed]"
          },
          "metadata": {
            "needs_background": "light"
          }
        }
      ],
      "source": [
        "(df.groupby(\"marital\")[\"target\"].mean()*100).sort_values().plot(kind = \"barh\")"
      ]
    },
    {
      "cell_type": "code",
      "execution_count": 48,
      "id": "24e768cc",
      "metadata": {
        "id": "24e768cc"
      },
      "outputs": [],
      "source": [
        "df[\"marital\"] = df[\"marital\"].replace({\"single\":0, \"divorced\":1, \"married\":2})"
      ]
    },
    {
      "cell_type": "markdown",
      "id": "4021373d",
      "metadata": {
        "id": "4021373d"
      },
      "source": [
        "# target encoding education_qual column"
      ]
    },
    {
      "cell_type": "code",
      "execution_count": 49,
      "id": "9e8b8923",
      "metadata": {
        "colab": {
          "base_uri": "https://localhost:8080/",
          "height": 282
        },
        "id": "9e8b8923",
        "outputId": "a7fc11bc-fbeb-49d9-a8d5-ace03481a677"
      },
      "outputs": [
        {
          "output_type": "execute_result",
          "data": {
            "text/plain": [
              "<AxesSubplot:ylabel='education_qual'>"
            ]
          },
          "metadata": {},
          "execution_count": 49
        },
        {
          "output_type": "display_data",
          "data": {
            "text/plain": [
              "<Figure size 432x288 with 1 Axes>"
            ],
            "image/png": "[encoded data removed]"
          },
          "metadata": {
            "needs_background": "light"
          }
        }
      ],
      "source": [
        "(df.groupby(\"education_qual\")[\"target\"].mean()*100).sort_values().plot(kind = \"barh\")"
      ]
    },
    {
      "cell_type": "code",
      "execution_count": 50,
      "id": "114f3015",
      "metadata": {
        "id": "114f3015"
      },
      "outputs": [],
      "source": [
        "df[\"education_qual\"] = df[\"education_qual\"].replace({\"tertiary\":0,\"secondary\":1,\"primary\":2})"
      ]
    },
    {
      "cell_type": "markdown",
      "id": "c95c5b50",
      "metadata": {
        "id": "c95c5b50"
      },
      "source": [
        "# target encoding call_type column"
      ]
    },
    {
      "cell_type": "code",
      "execution_count": 51,
      "id": "9fc69109",
      "metadata": {
        "colab": {
          "base_uri": "https://localhost:8080/"
        },
        "id": "9fc69109",
        "outputId": "d2b2488d-d1a2-467f-a325-636267b2b14b"
      },
      "outputs": [
        {
          "output_type": "execute_result",
          "data": {
            "text/plain": [
              "cellular     29282\n",
              "unknown      13017\n",
              "telephone     2906\n",
              "Name: call_type, dtype: int64"
            ]
          },
          "metadata": {},
          "execution_count": 51
        }
      ],
      "source": [
        "df[\"call_type\"].value_counts()"
      ]
    },
    {
      "cell_type": "code",
      "execution_count": 52,
      "id": "28f35d22",
      "metadata": {
        "colab": {
          "base_uri": "https://localhost:8080/",
          "height": 282
        },
        "id": "28f35d22",
        "outputId": "e6a8106a-77cf-45ea-d025-cc0a20142ee7"
      },
      "outputs": [
        {
          "output_type": "execute_result",
          "data": {
            "text/plain": [
              "<AxesSubplot:ylabel='call_type'>"
            ]
          },
          "metadata": {},
          "execution_count": 52
        },
        {
          "output_type": "display_data",
          "data": {
            "text/plain": [
              "<Figure size 432x288 with 1 Axes>"
            ],
            "image/png": "[encoded data removed]"
          },
          "metadata": {
            "needs_background": "light"
          }
        }
      ],
      "source": [
        "(df.groupby(\"call_type\")[\"target\"].mean()*100).sort_values().plot(kind = \"barh\")"
      ]
    },
    {
      "cell_type": "code",
      "execution_count": 53,
      "id": "fa52065b",
      "metadata": {
        "id": "fa52065b"
      },
      "outputs": [],
      "source": [
        "df[\"call_type\"] = df[\"call_type\"].replace({\"cellular\":0,\"telephone\":1,\"unknown\":2})"
      ]
    },
    {
      "cell_type": "code",
      "execution_count": 54,
      "id": "a90e01e2",
      "metadata": {
        "colab": {
          "base_uri": "https://localhost:8080/",
          "height": 423
        },
        "id": "a90e01e2",
        "outputId": "bc4accee-c8c0-456c-f86f-c91f16235e98"
      },
      "outputs": [
        {
          "output_type": "execute_result",
          "data": {
            "text/plain": [
              "       age  job  marital  education_qual  call_type  day  mon   dur  \\\n",
              "0       58    3        2               0          2    5  may   261   \n",
              "1       44    6        0               1          2    5  may   151   \n",
              "2       33    9        2               1          2    5  may    76   \n",
              "3       47   10        2               1          2    5  may    92   \n",
              "4       33   10        0               1          2    5  may   198   \n",
              "...    ...  ...      ...             ...        ...  ...  ...   ...   \n",
              "45206   51    6        2               0          0   17  nov   977   \n",
              "45207   71    1        1               2          0   17  nov   456   \n",
              "45208   72    1        2               1          0   17  nov  1127   \n",
              "45209   57   10        2               1          1   17  nov   508   \n",
              "45210   37    9        2               1          0   17  nov   361   \n",
              "\n",
              "       num_calls prev_outcome    y  target  \n",
              "0              1      unknown   no       0  \n",
              "1              1      unknown   no       0  \n",
              "2              1      unknown   no       0  \n",
              "3              1      unknown   no       0  \n",
              "4              1      unknown   no       0  \n",
              "...          ...          ...  ...     ...  \n",
              "45206          3      unknown  yes       1  \n",
              "45207          2      unknown  yes       1  \n",
              "45208          5      success  yes       1  \n",
              "45209          4      unknown   no       0  \n",
              "45210          2        other   no       0  \n",
              "\n",
              "[45205 rows x 12 columns]"
            ],
            "text/html": [
              "\n",
              "  <div id=\"df-b5f9314d-6186-43df-81d8-62456e30db9c\">\n",
              "    <div class=\"colab-df-container\">\n",
              "      <div>\n",
              "<style scoped>\n",
              "    .dataframe tbody tr th:only-of-type {\n",
              "        vertical-align: middle;\n",
              "    }\n",
              "\n",
              "    .dataframe tbody tr th {\n",
              "        vertical-align: top;\n",
              "    }\n",
              "\n",
              "    .dataframe thead th {\n",
              "        text-align: right;\n",
              "    }\n",
              "</style>\n",
              "<table border=\"1\" class=\"dataframe\">\n",
              "  <thead>\n",
              "    <tr style=\"text-align: right;\">\n",
              "      <th></th>\n",
              "      <th>age</th>\n",
              "      <th>job</th>\n",
              "      <th>marital</th>\n",
              "      <th>education_qual</th>\n",
              "      <th>call_type</th>\n",
              "      <th>day</th>\n",
              "      <th>mon</th>\n",
              "      <th>dur</th>\n",
              "      <th>num_calls</th>\n",
              "      <th>prev_outcome</th>\n",
              "      <th>y</th>\n",
              "      <th>target</th>\n",
              "    </tr>\n",
              "  </thead>\n",
              "  <tbody>\n",
              "    <tr>\n",
              "      <th>0</th>\n",
              "      <td>58</td>\n",
              "      <td>3</td>\n",
              "      <td>2</td>\n",
              "      <td>0</td>\n",
              "      <td>2</td>\n",
              "      <td>5</td>\n",
              "      <td>may</td>\n",
              "      <td>261</td>\n",
              "      <td>1</td>\n",
              "      <td>unknown</td>\n",
              "      <td>no</td>\n",
              "      <td>0</td>\n",
              "    </tr>\n",
              "    <tr>\n",
              "      <th>1</th>\n",
              "      <td>44</td>\n",
              "      <td>6</td>\n",
              "      <td>0</td>\n",
              "      <td>1</td>\n",
              "      <td>2</td>\n",
              "      <td>5</td>\n",
              "      <td>may</td>\n",
              "      <td>151</td>\n",
              "      <td>1</td>\n",
              "      <td>unknown</td>\n",
              "      <td>no</td>\n",
              "      <td>0</td>\n",
              "    </tr>\n",
              "    <tr>\n",
              "      <th>2</th>\n",
              "      <td>33</td>\n",
              "      <td>9</td>\n",
              "      <td>2</td>\n",
              "      <td>1</td>\n",
              "      <td>2</td>\n",
              "      <td>5</td>\n",
              "      <td>may</td>\n",
              "      <td>76</td>\n",
              "      <td>1</td>\n",
              "      <td>unknown</td>\n",
              "      <td>no</td>\n",
              "      <td>0</td>\n",
              "    </tr>\n",
              "    <tr>\n",
              "      <th>3</th>\n",
              "      <td>47</td>\n",
              "      <td>10</td>\n",
              "      <td>2</td>\n",
              "      <td>1</td>\n",
              "      <td>2</td>\n",
              "      <td>5</td>\n",
              "      <td>may</td>\n",
              "      <td>92</td>\n",
              "      <td>1</td>\n",
              "      <td>unknown</td>\n",
              "      <td>no</td>\n",
              "      <td>0</td>\n",
              "    </tr>\n",
              "    <tr>\n",
              "      <th>4</th>\n",
              "      <td>33</td>\n",
              "      <td>10</td>\n",
              "      <td>0</td>\n",
              "      <td>1</td>\n",
              "      <td>2</td>\n",
              "      <td>5</td>\n",
              "      <td>may</td>\n",
              "      <td>198</td>\n",
              "      <td>1</td>\n",
              "      <td>unknown</td>\n",
              "      <td>no</td>\n",
              "      <td>0</td>\n",
              "    </tr>\n",
              "    <tr>\n",
              "      <th>...</th>\n",
              "      <td>...</td>\n",
              "      <td>...</td>\n",
              "      <td>...</td>\n",
              "      <td>...</td>\n",
              "      <td>...</td>\n",
              "      <td>...</td>\n",
              "      <td>...</td>\n",
              "      <td>...</td>\n",
              "      <td>...</td>\n",
              "      <td>...</td>\n",
              "      <td>...</td>\n",
              "      <td>...</td>\n",
              "    </tr>\n",
              "    <tr>\n",
              "      <th>45206</th>\n",
              "      <td>51</td>\n",
              "      <td>6</td>\n",
              "      <td>2</td>\n",
              "      <td>0</td>\n",
              "      <td>0</td>\n",
              "      <td>17</td>\n",
              "      <td>nov</td>\n",
              "      <td>977</td>\n",
              "      <td>3</td>\n",
              "      <td>unknown</td>\n",
              "      <td>yes</td>\n",
              "      <td>1</td>\n",
              "    </tr>\n",
              "    <tr>\n",
              "      <th>45207</th>\n",
              "      <td>71</td>\n",
              "      <td>1</td>\n",
              "      <td>1</td>\n",
              "      <td>2</td>\n",
              "      <td>0</td>\n",
              "      <td>17</td>\n",
              "      <td>nov</td>\n",
              "      <td>456</td>\n",
              "      <td>2</td>\n",
              "      <td>unknown</td>\n",
              "      <td>yes</td>\n",
              "      <td>1</td>\n",
              "    </tr>\n",
              "    <tr>\n",
              "      <th>45208</th>\n",
              "      <td>72</td>\n",
              "      <td>1</td>\n",
              "      <td>2</td>\n",
              "      <td>1</td>\n",
              "      <td>0</td>\n",
              "      <td>17</td>\n",
              "      <td>nov</td>\n",
              "      <td>1127</td>\n",
              "      <td>5</td>\n",
              "      <td>success</td>\n",
              "      <td>yes</td>\n",
              "      <td>1</td>\n",
              "    </tr>\n",
              "    <tr>\n",
              "      <th>45209</th>\n",
              "      <td>57</td>\n",
              "      <td>10</td>\n",
              "      <td>2</td>\n",
              "      <td>1</td>\n",
              "      <td>1</td>\n",
              "      <td>17</td>\n",
              "      <td>nov</td>\n",
              "      <td>508</td>\n",
              "      <td>4</td>\n",
              "      <td>unknown</td>\n",
              "      <td>no</td>\n",
              "      <td>0</td>\n",
              "    </tr>\n",
              "    <tr>\n",
              "      <th>45210</th>\n",
              "      <td>37</td>\n",
              "      <td>9</td>\n",
              "      <td>2</td>\n",
              "      <td>1</td>\n",
              "      <td>0</td>\n",
              "      <td>17</td>\n",
              "      <td>nov</td>\n",
              "      <td>361</td>\n",
              "      <td>2</td>\n",
              "      <td>other</td>\n",
              "      <td>no</td>\n",
              "      <td>0</td>\n",
              "    </tr>\n",
              "  </tbody>\n",
              "</table>\n",
              "<p>45205 rows × 12 columns</p>\n",
              "</div>\n",
              "      <button class=\"colab-df-convert\" onclick=\"convertToInteractive('df-b5f9314d-6186-43df-81d8-62456e30db9c')\"\n",
              "              title=\"Convert this dataframe to an interactive table.\"\n",
              "              style=\"display:none;\">\n",
              "        \n",
              "  <svg xmlns=\"http://www.w3.org/2000/svg\" height=\"24px\"viewBox=\"0 0 24 24\"\n",
              "       width=\"24px\">\n",
              "    <path d=\"M0 0h24v24H0V0z\" fill=\"none\"/>\n",
              "    <path d=\"M18.56 5.44l.94 2.06.94-2.06 2.06-.94-2.06-.94-.94-2.06-.94 2.06-2.06.94zm-11 1L8.5 8.5l.94-2.06 2.06-.94-2.06-.94L8.5 2.5l-.94 2.06-2.06.94zm10 10l.94 2.06.94-2.06 2.06-.94-2.06-.94-.94-2.06-.94 2.06-2.06.94z\"/><path d=\"M17.41 7.96l-1.37-1.37c-.4-.4-.92-.59-1.43-.59-.52 0-1.04.2-1.43.59L10.3 9.45l-7.72 7.72c-.78.78-.78 2.05 0 2.83L4 21.41c.39.39.9.59 1.41.59.51 0 1.02-.2 1.41-.59l7.78-7.78 2.81-2.81c.8-.78.8-2.07 0-2.86zM5.41 20L4 18.59l7.72-7.72 1.47 1.35L5.41 20z\"/>\n",
              "  </svg>\n",
              "      </button>\n",
              "      \n",
              "  <style>\n",
              "    .colab-df-container {\n",
              "      display:flex;\n",
              "      flex-wrap:wrap;\n",
              "      gap: 12px;\n",
              "    }\n",
              "\n",
              "    .colab-df-convert {\n",
              "      background-color: #E8F0FE;\n",
              "      border: none;\n",
              "      border-radius: 50%;\n",
              "      cursor: pointer;\n",
              "      display: none;\n",
              "      fill: #1967D2;\n",
              "      height: 32px;\n",
              "      padding: 0 0 0 0;\n",
              "      width: 32px;\n",
              "    }\n",
              "\n",
              "    .colab-df-convert:hover {\n",
              "      background-color: #E2EBFA;\n",
              "      box-shadow: 0px 1px 2px rgba(60, 64, 67, 0.3), 0px 1px 3px 1px rgba(60, 64, 67, 0.15);\n",
              "      fill: #174EA6;\n",
              "    }\n",
              "\n",
              "    [theme=dark] .colab-df-convert {\n",
              "      background-color: #3B4455;\n",
              "      fill: #D2E3FC;\n",
              "    }\n",
              "\n",
              "    [theme=dark] .colab-df-convert:hover {\n",
              "      background-color: #434B5C;\n",
              "      box-shadow: 0px 1px 3px 1px rgba(0, 0, 0, 0.15);\n",
              "      filter: drop-shadow(0px 1px 2px rgba(0, 0, 0, 0.3));\n",
              "      fill: #FFFFFF;\n",
              "    }\n",
              "  </style>\n",
              "\n",
              "      <script>\n",
              "        const buttonEl =\n",
              "          document.querySelector('#df-b5f9314d-6186-43df-81d8-62456e30db9c button.colab-df-convert');\n",
              "        buttonEl.style.display =\n",
              "          google.colab.kernel.accessAllowed ? 'block' : 'none';\n",
              "\n",
              "        async function convertToInteractive(key) {\n",
              "          const element = document.querySelector('#df-b5f9314d-6186-43df-81d8-62456e30db9c');\n",
              "          const dataTable =\n",
              "            await google.colab.kernel.invokeFunction('convertToInteractive',\n",
              "                                                     [key], {});\n",
              "          if (!dataTable) return;\n",
              "\n",
              "          const docLinkHtml = 'Like what you see? Visit the ' +\n",
              "            '<a target=\"_blank\" href=https://colab.research.google.com/notebooks/data_table.ipynb>data table notebook</a>'\n",
              "            + ' to learn more about interactive tables.';\n",
              "          element.innerHTML = '';\n",
              "          dataTable['output_type'] = 'display_data';\n",
              "          await google.colab.output.renderOutput(dataTable, element);\n",
              "          const docLink = document.createElement('div');\n",
              "          docLink.innerHTML = docLinkHtml;\n",
              "          element.appendChild(docLink);\n",
              "        }\n",
              "      </script>\n",
              "    </div>\n",
              "  </div>\n",
              "  "
            ]
          },
          "metadata": {},
          "execution_count": 54
        }
      ],
      "source": [
        "df"
      ]
    },
    {
      "cell_type": "markdown",
      "id": "096aae78",
      "metadata": {
        "id": "096aae78"
      },
      "source": [
        "# target encoding prev_outcome column"
      ]
    },
    {
      "cell_type": "code",
      "execution_count": 55,
      "id": "c675d567",
      "metadata": {
        "colab": {
          "base_uri": "https://localhost:8080/"
        },
        "id": "c675d567",
        "outputId": "ef83b95b-21dc-43c6-916d-96f5c3c6bfd5"
      },
      "outputs": [
        {
          "output_type": "execute_result",
          "data": {
            "text/plain": [
              "unknown    36953\n",
              "failure     4901\n",
              "other       1840\n",
              "success     1511\n",
              "Name: prev_outcome, dtype: int64"
            ]
          },
          "metadata": {},
          "execution_count": 55
        }
      ],
      "source": [
        "df[\"prev_outcome\"].value_counts()"
      ]
    },
    {
      "cell_type": "code",
      "execution_count": 56,
      "id": "b6e4f653",
      "metadata": {
        "colab": {
          "base_uri": "https://localhost:8080/",
          "height": 282
        },
        "id": "b6e4f653",
        "outputId": "4812b26e-5a37-481f-c631-25cd69879d5e"
      },
      "outputs": [
        {
          "output_type": "execute_result",
          "data": {
            "text/plain": [
              "<AxesSubplot:ylabel='prev_outcome'>"
            ]
          },
          "metadata": {},
          "execution_count": 56
        },
        {
          "output_type": "display_data",
          "data": {
            "text/plain": [
              "<Figure size 432x288 with 1 Axes>"
            ],
            "image/png": "[encoded data removed]"
          },
          "metadata": {
            "needs_background": "light"
          }
        }
      ],
      "source": [
        "(df.groupby(\"prev_outcome\")[\"target\"].mean()*100).sort_values().plot(kind = \"barh\")"
      ]
    },
    {
      "cell_type": "code",
      "execution_count": 57,
      "id": "90f55603",
      "metadata": {
        "id": "90f55603"
      },
      "outputs": [],
      "source": [
        "df[\"prev_outcome\"] = df[\"prev_outcome\"].replace({\"success\":0,\"other\":1,\"failure\":2,\"unknown\":3})"
      ]
    },
    {
      "cell_type": "markdown",
      "id": "02ceaf2a",
      "metadata": {
        "id": "02ceaf2a"
      },
      "source": [
        "# target encoding day column"
      ]
    },
    {
      "cell_type": "code",
      "execution_count": 58,
      "id": "bdb86952",
      "metadata": {
        "colab": {
          "base_uri": "https://localhost:8080/",
          "height": 283
        },
        "id": "bdb86952",
        "outputId": "66007720-b239-45b9-8933-9c8fb1b0417e"
      },
      "outputs": [
        {
          "output_type": "execute_result",
          "data": {
            "text/plain": [
              "<AxesSubplot:ylabel='day'>"
            ]
          },
          "metadata": {},
          "execution_count": 58
        },
        {
          "output_type": "display_data",
          "data": {
            "text/plain": [
              "<Figure size 432x288 with 1 Axes>"
            ],
            "image/png": "[encoded data removed]"
          },
          "metadata": {
            "needs_background": "light"
          }
        }
      ],
      "source": [
        "(df.groupby(\"day\")[\"target\"].mean()*100).sort_values().plot(kind = \"barh\")"
      ]
    },
    {
      "cell_type": "code",
      "execution_count": 59,
      "id": "cedccdac",
      "metadata": {
        "id": "cedccdac"
      },
      "outputs": [],
      "source": [
        "df[\"day\"] = df[\"day\"].replace({1:0, 10:1,30:2,22:3,3:4,4:5,25:6,12:7,13:8,2:9,15:10,24:11,16:12,23:13,27:14,11:15,9:16,14:17,5:18,26:19,8:20,21:21,18:22,6:23,17:24,7:25,28:26,29:27,31:28,20:29,19:30})"
      ]
    },
    {
      "cell_type": "markdown",
      "id": "6d3f9d27",
      "metadata": {
        "id": "6d3f9d27"
      },
      "source": [
        "# target encoding mon column"
      ]
    },
    {
      "cell_type": "code",
      "execution_count": 60,
      "id": "01343841",
      "metadata": {
        "colab": {
          "base_uri": "https://localhost:8080/"
        },
        "id": "01343841",
        "outputId": "1e74f1a0-52fe-4d81-94b8-14f6ea012bfe"
      },
      "outputs": [
        {
          "output_type": "execute_result",
          "data": {
            "text/plain": [
              "may    13765\n",
              "jul     6894\n",
              "aug     6245\n",
              "jun     5339\n",
              "nov     3970\n",
              "apr     2932\n",
              "feb     2649\n",
              "jan     1403\n",
              "oct      738\n",
              "sep      579\n",
              "mar      477\n",
              "dec      214\n",
              "Name: mon, dtype: int64"
            ]
          },
          "metadata": {},
          "execution_count": 60
        }
      ],
      "source": [
        "df[\"mon\"].value_counts()"
      ]
    },
    {
      "cell_type": "code",
      "execution_count": 61,
      "id": "e323911f",
      "metadata": {
        "colab": {
          "base_uri": "https://localhost:8080/",
          "height": 282
        },
        "id": "e323911f",
        "outputId": "58759dff-2b87-4e45-aa5e-4a25fe6288b9"
      },
      "outputs": [
        {
          "output_type": "execute_result",
          "data": {
            "text/plain": [
              "<AxesSubplot:ylabel='mon'>"
            ]
          },
          "metadata": {},
          "execution_count": 61
        },
        {
          "output_type": "display_data",
          "data": {
            "text/plain": [
              "<Figure size 432x288 with 1 Axes>"
            ],
            "image/png": "[encoded data removed]"
          },
          "metadata": {
            "needs_background": "light"
          }
        }
      ],
      "source": [
        "(df.groupby(\"mon\")[\"target\"].mean()*100).sort_values().plot(kind = \"barh\")"
      ]
    },
    {
      "cell_type": "code",
      "execution_count": 62,
      "id": "91fe67d8",
      "metadata": {
        "id": "91fe67d8"
      },
      "outputs": [],
      "source": [
        "df[\"mon\"] = df[\"mon\"].replace({\"mar\":0,\"dec\":1,\"sep\":2,\"oct\":3,\"apr\":4,\"feb\":5,\"aug\":6,\"jun\":7,\"nov\":8,\"jan\":9,\"jul\":10,\"may\":11})"
      ]
    },
    {
      "cell_type": "code",
      "execution_count": 66,
      "id": "7ebf246a",
      "metadata": {
        "colab": {
          "base_uri": "https://localhost:8080/",
          "height": 282
        },
        "id": "7ebf246a",
        "outputId": "31ccc16e-ec5a-4464-c553-4fe49ddda413"
      },
      "outputs": [
        {
          "output_type": "display_data",
          "data": {
            "text/plain": [
              "<Figure size 432x288 with 1 Axes>"
            ],
            "image/png": "[encoded data removed]"
          },
          "metadata": {
            "needs_background": "light"
          }
        }
      ],
      "source": [
        "day = sns.countplot(data=df, x=\"mon\", hue=\"y\")\n",
        "day.tick_params(axis=\"x\", rotation=90)"
      ]
    },
    {
      "cell_type": "code",
      "execution_count": 69,
      "id": "ed1b5093",
      "metadata": {
        "colab": {
          "base_uri": "https://localhost:8080/",
          "height": 296
        },
        "id": "ed1b5093",
        "outputId": "67f55cd3-ae29-4e73-df80-08266d84cd0f"
      },
      "outputs": [
        {
          "output_type": "execute_result",
          "data": {
            "text/plain": [
              "<AxesSubplot:xlabel='y', ylabel='age'>"
            ]
          },
          "metadata": {},
          "execution_count": 69
        },
        {
          "output_type": "display_data",
          "data": {
            "text/plain": [
              "<Figure size 432x288 with 1 Axes>"
            ],
            "image/png": "[encoded data removed]"
          },
          "metadata": {
            "needs_background": "light"
          }
        }
      ],
      "source": [
        "sns.boxplot(data = df, x = \"y\", y = \"age\")"
      ]
    },
    {
      "cell_type": "code",
      "execution_count": 70,
      "id": "0d16674a",
      "metadata": {
        "colab": {
          "base_uri": "https://localhost:8080/",
          "height": 296
        },
        "id": "0d16674a",
        "outputId": "3b475664-b667-48f6-b6ab-c2a942811aa2"
      },
      "outputs": [
        {
          "output_type": "execute_result",
          "data": {
            "text/plain": [
              "<AxesSubplot:xlabel='dur', ylabel='Count'>"
            ]
          },
          "metadata": {},
          "execution_count": 70
        },
        {
          "output_type": "display_data",
          "data": {
            "text/plain": [
              "<Figure size 432x288 with 1 Axes>"
            ],
            "image/png": "[encoded data removed]"
          },
          "metadata": {
            "needs_background": "light"
          }
        }
      ],
      "source": [
        "import seaborn as sns\n",
        "sns.histplot(data=df, x=\"dur\", hue=\"y\", multiple=\"stack\")\n"
      ]
    },
    {
      "cell_type": "code",
      "execution_count": 71,
      "id": "a3e21f60",
      "metadata": {
        "colab": {
          "base_uri": "https://localhost:8080/",
          "height": 296
        },
        "id": "a3e21f60",
        "outputId": "57b8dc6d-72a3-49f8-deba-e5e22a832d27"
      },
      "outputs": [
        {
          "output_type": "execute_result",
          "data": {
            "text/plain": [
              "Text(0, 0.5, 'mean duration')"
            ]
          },
          "metadata": {},
          "execution_count": 71
        },
        {
          "output_type": "display_data",
          "data": {
            "text/plain": [
              "<Figure size 432x288 with 1 Axes>"
            ],
            "image/png": "[encoded data removed]"
          },
          "metadata": {
            "needs_background": "light"
          }
        }
      ],
      "source": [
        "import matplotlib.pyplot as plt\n",
        "grouped_data = df.groupby('y')['dur'].mean()\n",
        "plt.bar(x=grouped_data.index, height=grouped_data.values)\n",
        "plt.xlabel('y')\n",
        "plt.ylabel('mean duration')"
      ]
    },
    {
      "cell_type": "code",
      "execution_count": 73,
      "id": "672df3de",
      "metadata": {
        "colab": {
          "base_uri": "https://localhost:8080/",
          "height": 296
        },
        "id": "672df3de",
        "outputId": "a9a55a00-5d61-49c3-c7e0-36c2cc5a3568"
      },
      "outputs": [
        {
          "output_type": "execute_result",
          "data": {
            "text/plain": [
              "<AxesSubplot:xlabel='y', ylabel='day'>"
            ]
          },
          "metadata": {},
          "execution_count": 73
        },
        {
          "output_type": "display_data",
          "data": {
            "text/plain": [
              "<Figure size 432x288 with 1 Axes>"
            ],
            "image/png": "[encoded data removed]"
          },
          "metadata": {
            "needs_background": "light"
          }
        }
      ],
      "source": [
        "sns.boxplot(data = df, x = \"y\", y = \"day\")"
      ]
    },
    {
      "cell_type": "code",
      "execution_count": 74,
      "id": "f46ed559",
      "metadata": {
        "colab": {
          "base_uri": "https://localhost:8080/",
          "height": 423
        },
        "id": "f46ed559",
        "outputId": "eb70da49-9a2e-4cb1-bd67-00476e5ba915"
      },
      "outputs": [
        {
          "output_type": "execute_result",
          "data": {
            "text/plain": [
              "       age  job  marital  education_qual  call_type  day  mon   dur  \\\n",
              "0       58    3        2               0          2   18   11   261   \n",
              "1       44    6        0               1          2   18   11   151   \n",
              "2       33    9        2               1          2   18   11    76   \n",
              "3       47   10        2               1          2   18   11    92   \n",
              "4       33   10        0               1          2   18   11   198   \n",
              "...    ...  ...      ...             ...        ...  ...  ...   ...   \n",
              "45206   51    6        2               0          0   24    8   977   \n",
              "45207   71    1        1               2          0   24    8   456   \n",
              "45208   72    1        2               1          0   24    8  1127   \n",
              "45209   57   10        2               1          1   24    8   508   \n",
              "45210   37    9        2               1          0   24    8   361   \n",
              "\n",
              "       num_calls  prev_outcome    y  target  \n",
              "0              1             3   no       0  \n",
              "1              1             3   no       0  \n",
              "2              1             3   no       0  \n",
              "3              1             3   no       0  \n",
              "4              1             3   no       0  \n",
              "...          ...           ...  ...     ...  \n",
              "45206          3             3  yes       1  \n",
              "45207          2             3  yes       1  \n",
              "45208          5             0  yes       1  \n",
              "45209          4             3   no       0  \n",
              "45210          2             1   no       0  \n",
              "\n",
              "[45205 rows x 12 columns]"
            ],
            "text/html": [
              "\n",
              "  <div id=\"df-09dd8799-5993-46f4-9fe5-ba4182fbb07a\">\n",
              "    <div class=\"colab-df-container\">\n",
              "      <div>\n",
              "<style scoped>\n",
              "    .dataframe tbody tr th:only-of-type {\n",
              "        vertical-align: middle;\n",
              "    }\n",
              "\n",
              "    .dataframe tbody tr th {\n",
              "        vertical-align: top;\n",
              "    }\n",
              "\n",
              "    .dataframe thead th {\n",
              "        text-align: right;\n",
              "    }\n",
              "</style>\n",
              "<table border=\"1\" class=\"dataframe\">\n",
              "  <thead>\n",
              "    <tr style=\"text-align: right;\">\n",
              "      <th></th>\n",
              "      <th>age</th>\n",
              "      <th>job</th>\n",
              "      <th>marital</th>\n",
              "      <th>education_qual</th>\n",
              "      <th>call_type</th>\n",
              "      <th>day</th>\n",
              "      <th>mon</th>\n",
              "      <th>dur</th>\n",
              "      <th>num_calls</th>\n",
              "      <th>prev_outcome</th>\n",
              "      <th>y</th>\n",
              "      <th>target</th>\n",
              "    </tr>\n",
              "  </thead>\n",
              "  <tbody>\n",
              "    <tr>\n",
              "      <th>0</th>\n",
              "      <td>58</td>\n",
              "      <td>3</td>\n",
              "      <td>2</td>\n",
              "      <td>0</td>\n",
              "      <td>2</td>\n",
              "      <td>18</td>\n",
              "      <td>11</td>\n",
              "      <td>261</td>\n",
              "      <td>1</td>\n",
              "      <td>3</td>\n",
              "      <td>no</td>\n",
              "      <td>0</td>\n",
              "    </tr>\n",
              "    <tr>\n",
              "      <th>1</th>\n",
              "      <td>44</td>\n",
              "      <td>6</td>\n",
              "      <td>0</td>\n",
              "      <td>1</td>\n",
              "      <td>2</td>\n",
              "      <td>18</td>\n",
              "      <td>11</td>\n",
              "      <td>151</td>\n",
              "      <td>1</td>\n",
              "      <td>3</td>\n",
              "      <td>no</td>\n",
              "      <td>0</td>\n",
              "    </tr>\n",
              "    <tr>\n",
              "      <th>2</th>\n",
              "      <td>33</td>\n",
              "      <td>9</td>\n",
              "      <td>2</td>\n",
              "      <td>1</td>\n",
              "      <td>2</td>\n",
              "      <td>18</td>\n",
              "      <td>11</td>\n",
              "      <td>76</td>\n",
              "      <td>1</td>\n",
              "      <td>3</td>\n",
              "      <td>no</td>\n",
              "      <td>0</td>\n",
              "    </tr>\n",
              "    <tr>\n",
              "      <th>3</th>\n",
              "      <td>47</td>\n",
              "      <td>10</td>\n",
              "      <td>2</td>\n",
              "      <td>1</td>\n",
              "      <td>2</td>\n",
              "      <td>18</td>\n",
              "      <td>11</td>\n",
              "      <td>92</td>\n",
              "      <td>1</td>\n",
              "      <td>3</td>\n",
              "      <td>no</td>\n",
              "      <td>0</td>\n",
              "    </tr>\n",
              "    <tr>\n",
              "      <th>4</th>\n",
              "      <td>33</td>\n",
              "      <td>10</td>\n",
              "      <td>0</td>\n",
              "      <td>1</td>\n",
              "      <td>2</td>\n",
              "      <td>18</td>\n",
              "      <td>11</td>\n",
              "      <td>198</td>\n",
              "      <td>1</td>\n",
              "      <td>3</td>\n",
              "      <td>no</td>\n",
              "      <td>0</td>\n",
              "    </tr>\n",
              "    <tr>\n",
              "      <th>...</th>\n",
              "      <td>...</td>\n",
              "      <td>...</td>\n",
              "      <td>...</td>\n",
              "      <td>...</td>\n",
              "      <td>...</td>\n",
              "      <td>...</td>\n",
              "      <td>...</td>\n",
              "      <td>...</td>\n",
              "      <td>...</td>\n",
              "      <td>...</td>\n",
              "      <td>...</td>\n",
              "      <td>...</td>\n",
              "    </tr>\n",
              "    <tr>\n",
              "      <th>45206</th>\n",
              "      <td>51</td>\n",
              "      <td>6</td>\n",
              "      <td>2</td>\n",
              "      <td>0</td>\n",
              "      <td>0</td>\n",
              "      <td>24</td>\n",
              "      <td>8</td>\n",
              "      <td>977</td>\n",
              "      <td>3</td>\n",
              "      <td>3</td>\n",
              "      <td>yes</td>\n",
              "      <td>1</td>\n",
              "    </tr>\n",
              "    <tr>\n",
              "      <th>45207</th>\n",
              "      <td>71</td>\n",
              "      <td>1</td>\n",
              "      <td>1</td>\n",
              "      <td>2</td>\n",
              "      <td>0</td>\n",
              "      <td>24</td>\n",
              "      <td>8</td>\n",
              "      <td>456</td>\n",
              "      <td>2</td>\n",
              "      <td>3</td>\n",
              "      <td>yes</td>\n",
              "      <td>1</td>\n",
              "    </tr>\n",
              "    <tr>\n",
              "      <th>45208</th>\n",
              "      <td>72</td>\n",
              "      <td>1</td>\n",
              "      <td>2</td>\n",
              "      <td>1</td>\n",
              "      <td>0</td>\n",
              "      <td>24</td>\n",
              "      <td>8</td>\n",
              "      <td>1127</td>\n",
              "      <td>5</td>\n",
              "      <td>0</td>\n",
              "      <td>yes</td>\n",
              "      <td>1</td>\n",
              "    </tr>\n",
              "    <tr>\n",
              "      <th>45209</th>\n",
              "      <td>57</td>\n",
              "      <td>10</td>\n",
              "      <td>2</td>\n",
              "      <td>1</td>\n",
              "      <td>1</td>\n",
              "      <td>24</td>\n",
              "      <td>8</td>\n",
              "      <td>508</td>\n",
              "      <td>4</td>\n",
              "      <td>3</td>\n",
              "      <td>no</td>\n",
              "      <td>0</td>\n",
              "    </tr>\n",
              "    <tr>\n",
              "      <th>45210</th>\n",
              "      <td>37</td>\n",
              "      <td>9</td>\n",
              "      <td>2</td>\n",
              "      <td>1</td>\n",
              "      <td>0</td>\n",
              "      <td>24</td>\n",
              "      <td>8</td>\n",
              "      <td>361</td>\n",
              "      <td>2</td>\n",
              "      <td>1</td>\n",
              "      <td>no</td>\n",
              "      <td>0</td>\n",
              "    </tr>\n",
              "  </tbody>\n",
              "</table>\n",
              "<p>45205 rows × 12 columns</p>\n",
              "</div>\n",
              "      <button class=\"colab-df-convert\" onclick=\"convertToInteractive('df-09dd8799-5993-46f4-9fe5-ba4182fbb07a')\"\n",
              "              title=\"Convert this dataframe to an interactive table.\"\n",
              "              style=\"display:none;\">\n",
              "        \n",
              "  <svg xmlns=\"http://www.w3.org/2000/svg\" height=\"24px\"viewBox=\"0 0 24 24\"\n",
              "       width=\"24px\">\n",
              "    <path d=\"M0 0h24v24H0V0z\" fill=\"none\"/>\n",
              "    <path d=\"M18.56 5.44l.94 2.06.94-2.06 2.06-.94-2.06-.94-.94-2.06-.94 2.06-2.06.94zm-11 1L8.5 8.5l.94-2.06 2.06-.94-2.06-.94L8.5 2.5l-.94 2.06-2.06.94zm10 10l.94 2.06.94-2.06 2.06-.94-2.06-.94-.94-2.06-.94 2.06-2.06.94z\"/><path d=\"M17.41 7.96l-1.37-1.37c-.4-.4-.92-.59-1.43-.59-.52 0-1.04.2-1.43.59L10.3 9.45l-7.72 7.72c-.78.78-.78 2.05 0 2.83L4 21.41c.39.39.9.59 1.41.59.51 0 1.02-.2 1.41-.59l7.78-7.78 2.81-2.81c.8-.78.8-2.07 0-2.86zM5.41 20L4 18.59l7.72-7.72 1.47 1.35L5.41 20z\"/>\n",
              "  </svg>\n",
              "      </button>\n",
              "      \n",
              "  <style>\n",
              "    .colab-df-container {\n",
              "      display:flex;\n",
              "      flex-wrap:wrap;\n",
              "      gap: 12px;\n",
              "    }\n",
              "\n",
              "    .colab-df-convert {\n",
              "      background-color: #E8F0FE;\n",
              "      border: none;\n",
              "      border-radius: 50%;\n",
              "      cursor: pointer;\n",
              "      display: none;\n",
              "      fill: #1967D2;\n",
              "      height: 32px;\n",
              "      padding: 0 0 0 0;\n",
              "      width: 32px;\n",
              "    }\n",
              "\n",
              "    .colab-df-convert:hover {\n",
              "      background-color: #E2EBFA;\n",
              "      box-shadow: 0px 1px 2px rgba(60, 64, 67, 0.3), 0px 1px 3px 1px rgba(60, 64, 67, 0.15);\n",
              "      fill: #174EA6;\n",
              "    }\n",
              "\n",
              "    [theme=dark] .colab-df-convert {\n",
              "      background-color: #3B4455;\n",
              "      fill: #D2E3FC;\n",
              "    }\n",
              "\n",
              "    [theme=dark] .colab-df-convert:hover {\n",
              "      background-color: #434B5C;\n",
              "      box-shadow: 0px 1px 3px 1px rgba(0, 0, 0, 0.15);\n",
              "      filter: drop-shadow(0px 1px 2px rgba(0, 0, 0, 0.3));\n",
              "      fill: #FFFFFF;\n",
              "    }\n",
              "  </style>\n",
              "\n",
              "      <script>\n",
              "        const buttonEl =\n",
              "          document.querySelector('#df-09dd8799-5993-46f4-9fe5-ba4182fbb07a button.colab-df-convert');\n",
              "        buttonEl.style.display =\n",
              "          google.colab.kernel.accessAllowed ? 'block' : 'none';\n",
              "\n",
              "        async function convertToInteractive(key) {\n",
              "          const element = document.querySelector('#df-09dd8799-5993-46f4-9fe5-ba4182fbb07a');\n",
              "          const dataTable =\n",
              "            await google.colab.kernel.invokeFunction('convertToInteractive',\n",
              "                                                     [key], {});\n",
              "          if (!dataTable) return;\n",
              "\n",
              "          const docLinkHtml = 'Like what you see? Visit the ' +\n",
              "            '<a target=\"_blank\" href=https://colab.research.google.com/notebooks/data_table.ipynb>data table notebook</a>'\n",
              "            + ' to learn more about interactive tables.';\n",
              "          element.innerHTML = '';\n",
              "          dataTable['output_type'] = 'display_data';\n",
              "          await google.colab.output.renderOutput(dataTable, element);\n",
              "          const docLink = document.createElement('div');\n",
              "          docLink.innerHTML = docLinkHtml;\n",
              "          element.appendChild(docLink);\n",
              "        }\n",
              "      </script>\n",
              "    </div>\n",
              "  </div>\n",
              "  "
            ]
          },
          "metadata": {},
          "execution_count": 74
        }
      ],
      "source": [
        "df"
      ]
    },
    {
      "cell_type": "code",
      "execution_count": 75,
      "id": "44fd668f",
      "metadata": {
        "colab": {
          "base_uri": "https://localhost:8080/",
          "height": 394
        },
        "id": "44fd668f",
        "outputId": "b60ad651-791a-4c8e-df17-43ee2b6ad4f2"
      },
      "outputs": [
        {
          "output_type": "execute_result",
          "data": {
            "text/plain": [
              "                     age       job   marital  education_qual  call_type  \\\n",
              "age             1.000000 -0.097369  0.376110        0.164885   0.026262   \n",
              "job            -0.097369  1.000000  0.125127        0.404557   0.143050   \n",
              "marital         0.376110  0.125127  1.000000        0.161119   0.040763   \n",
              "education_qual  0.164885  0.404557  0.161119        1.000000   0.153952   \n",
              "call_type       0.026262  0.143050  0.040763        0.153952   1.000000   \n",
              "day             0.008424  0.038094  0.032792        0.011187   0.015544   \n",
              "mon            -0.110645  0.176022  0.001519        0.105310   0.303790   \n",
              "dur            -0.004698 -0.002256 -0.022908       -0.002653  -0.020817   \n",
              "num_calls       0.004751  0.026054  0.029146       -0.003729   0.019592   \n",
              "prev_outcome   -0.012204  0.075029  0.037144        0.050750   0.251073   \n",
              "target          0.025126 -0.118438 -0.065673       -0.068640  -0.148391   \n",
              "\n",
              "                     day       mon       dur  num_calls  prev_outcome  \\\n",
              "age             0.008424 -0.110645 -0.004698   0.004751     -0.012204   \n",
              "job             0.038094  0.176022 -0.002256   0.026054      0.075029   \n",
              "marital         0.032792  0.001519 -0.022908   0.029146      0.037144   \n",
              "education_qual  0.011187  0.105310 -0.002653  -0.003729      0.050750   \n",
              "call_type       0.015544  0.303790 -0.020817   0.019592      0.251073   \n",
              "day             1.000000  0.044642 -0.036998   0.057117      0.082331   \n",
              "mon             0.044642  1.000000 -0.000273   0.007567      0.168904   \n",
              "dur            -0.036998 -0.000273  1.000000  -0.084582     -0.023161   \n",
              "num_calls       0.057117  0.007567 -0.084582   1.000000      0.094992   \n",
              "prev_outcome    0.082331  0.168904 -0.023161   0.094992      1.000000   \n",
              "target         -0.108116 -0.204187  0.394506  -0.073180     -0.259300   \n",
              "\n",
              "                  target  \n",
              "age             0.025126  \n",
              "job            -0.118438  \n",
              "marital        -0.065673  \n",
              "education_qual -0.068640  \n",
              "call_type      -0.148391  \n",
              "day            -0.108116  \n",
              "mon            -0.204187  \n",
              "dur             0.394506  \n",
              "num_calls      -0.073180  \n",
              "prev_outcome   -0.259300  \n",
              "target          1.000000  "
            ],
            "text/html": [
              "\n",
              "  <div id=\"df-2e3dd219-d70c-4bcf-a32e-11fbdf1f65d3\">\n",
              "    <div class=\"colab-df-container\">\n",
              "      <div>\n",
              "<style scoped>\n",
              "    .dataframe tbody tr th:only-of-type {\n",
              "        vertical-align: middle;\n",
              "    }\n",
              "\n",
              "    .dataframe tbody tr th {\n",
              "        vertical-align: top;\n",
              "    }\n",
              "\n",
              "    .dataframe thead th {\n",
              "        text-align: right;\n",
              "    }\n",
              "</style>\n",
              "<table border=\"1\" class=\"dataframe\">\n",
              "  <thead>\n",
              "    <tr style=\"text-align: right;\">\n",
              "      <th></th>\n",
              "      <th>age</th>\n",
              "      <th>job</th>\n",
              "      <th>marital</th>\n",
              "      <th>education_qual</th>\n",
              "      <th>call_type</th>\n",
              "      <th>day</th>\n",
              "      <th>mon</th>\n",
              "      <th>dur</th>\n",
              "      <th>num_calls</th>\n",
              "      <th>prev_outcome</th>\n",
              "      <th>target</th>\n",
              "    </tr>\n",
              "  </thead>\n",
              "  <tbody>\n",
              "    <tr>\n",
              "      <th>age</th>\n",
              "      <td>1.000000</td>\n",
              "      <td>-0.097369</td>\n",
              "      <td>0.376110</td>\n",
              "      <td>0.164885</td>\n",
              "      <td>0.026262</td>\n",
              "      <td>0.008424</td>\n",
              "      <td>-0.110645</td>\n",
              "      <td>-0.004698</td>\n",
              "      <td>0.004751</td>\n",
              "      <td>-0.012204</td>\n",
              "      <td>0.025126</td>\n",
              "    </tr>\n",
              "    <tr>\n",
              "      <th>job</th>\n",
              "      <td>-0.097369</td>\n",
              "      <td>1.000000</td>\n",
              "      <td>0.125127</td>\n",
              "      <td>0.404557</td>\n",
              "      <td>0.143050</td>\n",
              "      <td>0.038094</td>\n",
              "      <td>0.176022</td>\n",
              "      <td>-0.002256</td>\n",
              "      <td>0.026054</td>\n",
              "      <td>0.075029</td>\n",
              "      <td>-0.118438</td>\n",
              "    </tr>\n",
              "    <tr>\n",
              "      <th>marital</th>\n",
              "      <td>0.376110</td>\n",
              "      <td>0.125127</td>\n",
              "      <td>1.000000</td>\n",
              "      <td>0.161119</td>\n",
              "      <td>0.040763</td>\n",
              "      <td>0.032792</td>\n",
              "      <td>0.001519</td>\n",
              "      <td>-0.022908</td>\n",
              "      <td>0.029146</td>\n",
              "      <td>0.037144</td>\n",
              "      <td>-0.065673</td>\n",
              "    </tr>\n",
              "    <tr>\n",
              "      <th>education_qual</th>\n",
              "      <td>0.164885</td>\n",
              "      <td>0.404557</td>\n",
              "      <td>0.161119</td>\n",
              "      <td>1.000000</td>\n",
              "      <td>0.153952</td>\n",
              "      <td>0.011187</td>\n",
              "      <td>0.105310</td>\n",
              "      <td>-0.002653</td>\n",
              "      <td>-0.003729</td>\n",
              "      <td>0.050750</td>\n",
              "      <td>-0.068640</td>\n",
              "    </tr>\n",
              "    <tr>\n",
              "      <th>call_type</th>\n",
              "      <td>0.026262</td>\n",
              "      <td>0.143050</td>\n",
              "      <td>0.040763</td>\n",
              "      <td>0.153952</td>\n",
              "      <td>1.000000</td>\n",
              "      <td>0.015544</td>\n",
              "      <td>0.303790</td>\n",
              "      <td>-0.020817</td>\n",
              "      <td>0.019592</td>\n",
              "      <td>0.251073</td>\n",
              "      <td>-0.148391</td>\n",
              "    </tr>\n",
              "    <tr>\n",
              "      <th>day</th>\n",
              "      <td>0.008424</td>\n",
              "      <td>0.038094</td>\n",
              "      <td>0.032792</td>\n",
              "      <td>0.011187</td>\n",
              "      <td>0.015544</td>\n",
              "      <td>1.000000</td>\n",
              "      <td>0.044642</td>\n",
              "      <td>-0.036998</td>\n",
              "      <td>0.057117</td>\n",
              "      <td>0.082331</td>\n",
              "      <td>-0.108116</td>\n",
              "    </tr>\n",
              "    <tr>\n",
              "      <th>mon</th>\n",
              "      <td>-0.110645</td>\n",
              "      <td>0.176022</td>\n",
              "      <td>0.001519</td>\n",
              "      <td>0.105310</td>\n",
              "      <td>0.303790</td>\n",
              "      <td>0.044642</td>\n",
              "      <td>1.000000</td>\n",
              "      <td>-0.000273</td>\n",
              "      <td>0.007567</td>\n",
              "      <td>0.168904</td>\n",
              "      <td>-0.204187</td>\n",
              "    </tr>\n",
              "    <tr>\n",
              "      <th>dur</th>\n",
              "      <td>-0.004698</td>\n",
              "      <td>-0.002256</td>\n",
              "      <td>-0.022908</td>\n",
              "      <td>-0.002653</td>\n",
              "      <td>-0.020817</td>\n",
              "      <td>-0.036998</td>\n",
              "      <td>-0.000273</td>\n",
              "      <td>1.000000</td>\n",
              "      <td>-0.084582</td>\n",
              "      <td>-0.023161</td>\n",
              "      <td>0.394506</td>\n",
              "    </tr>\n",
              "    <tr>\n",
              "      <th>num_calls</th>\n",
              "      <td>0.004751</td>\n",
              "      <td>0.026054</td>\n",
              "      <td>0.029146</td>\n",
              "      <td>-0.003729</td>\n",
              "      <td>0.019592</td>\n",
              "      <td>0.057117</td>\n",
              "      <td>0.007567</td>\n",
              "      <td>-0.084582</td>\n",
              "      <td>1.000000</td>\n",
              "      <td>0.094992</td>\n",
              "      <td>-0.073180</td>\n",
              "    </tr>\n",
              "    <tr>\n",
              "      <th>prev_outcome</th>\n",
              "      <td>-0.012204</td>\n",
              "      <td>0.075029</td>\n",
              "      <td>0.037144</td>\n",
              "      <td>0.050750</td>\n",
              "      <td>0.251073</td>\n",
              "      <td>0.082331</td>\n",
              "      <td>0.168904</td>\n",
              "      <td>-0.023161</td>\n",
              "      <td>0.094992</td>\n",
              "      <td>1.000000</td>\n",
              "      <td>-0.259300</td>\n",
              "    </tr>\n",
              "    <tr>\n",
              "      <th>target</th>\n",
              "      <td>0.025126</td>\n",
              "      <td>-0.118438</td>\n",
              "      <td>-0.065673</td>\n",
              "      <td>-0.068640</td>\n",
              "      <td>-0.148391</td>\n",
              "      <td>-0.108116</td>\n",
              "      <td>-0.204187</td>\n",
              "      <td>0.394506</td>\n",
              "      <td>-0.073180</td>\n",
              "      <td>-0.259300</td>\n",
              "      <td>1.000000</td>\n",
              "    </tr>\n",
              "  </tbody>\n",
              "</table>\n",
              "</div>\n",
              "      <button class=\"colab-df-convert\" onclick=\"convertToInteractive('df-2e3dd219-d70c-4bcf-a32e-11fbdf1f65d3')\"\n",
              "              title=\"Convert this dataframe to an interactive table.\"\n",
              "              style=\"display:none;\">\n",
              "        \n",
              "  <svg xmlns=\"http://www.w3.org/2000/svg\" height=\"24px\"viewBox=\"0 0 24 24\"\n",
              "       width=\"24px\">\n",
              "    <path d=\"M0 0h24v24H0V0z\" fill=\"none\"/>\n",
              "    <path d=\"M18.56 5.44l.94 2.06.94-2.06 2.06-.94-2.06-.94-.94-2.06-.94 2.06-2.06.94zm-11 1L8.5 8.5l.94-2.06 2.06-.94-2.06-.94L8.5 2.5l-.94 2.06-2.06.94zm10 10l.94 2.06.94-2.06 2.06-.94-2.06-.94-.94-2.06-.94 2.06-2.06.94z\"/><path d=\"M17.41 7.96l-1.37-1.37c-.4-.4-.92-.59-1.43-.59-.52 0-1.04.2-1.43.59L10.3 9.45l-7.72 7.72c-.78.78-.78 2.05 0 2.83L4 21.41c.39.39.9.59 1.41.59.51 0 1.02-.2 1.41-.59l7.78-7.78 2.81-2.81c.8-.78.8-2.07 0-2.86zM5.41 20L4 18.59l7.72-7.72 1.47 1.35L5.41 20z\"/>\n",
              "  </svg>\n",
              "      </button>\n",
              "      \n",
              "  <style>\n",
              "    .colab-df-container {\n",
              "      display:flex;\n",
              "      flex-wrap:wrap;\n",
              "      gap: 12px;\n",
              "    }\n",
              "\n",
              "    .colab-df-convert {\n",
              "      background-color: #E8F0FE;\n",
              "      border: none;\n",
              "      border-radius: 50%;\n",
              "      cursor: pointer;\n",
              "      display: none;\n",
              "      fill: #1967D2;\n",
              "      height: 32px;\n",
              "      padding: 0 0 0 0;\n",
              "      width: 32px;\n",
              "    }\n",
              "\n",
              "    .colab-df-convert:hover {\n",
              "      background-color: #E2EBFA;\n",
              "      box-shadow: 0px 1px 2px rgba(60, 64, 67, 0.3), 0px 1px 3px 1px rgba(60, 64, 67, 0.15);\n",
              "      fill: #174EA6;\n",
              "    }\n",
              "\n",
              "    [theme=dark] .colab-df-convert {\n",
              "      background-color: #3B4455;\n",
              "      fill: #D2E3FC;\n",
              "    }\n",
              "\n",
              "    [theme=dark] .colab-df-convert:hover {\n",
              "      background-color: #434B5C;\n",
              "      box-shadow: 0px 1px 3px 1px rgba(0, 0, 0, 0.15);\n",
              "      filter: drop-shadow(0px 1px 2px rgba(0, 0, 0, 0.3));\n",
              "      fill: #FFFFFF;\n",
              "    }\n",
              "  </style>\n",
              "\n",
              "      <script>\n",
              "        const buttonEl =\n",
              "          document.querySelector('#df-2e3dd219-d70c-4bcf-a32e-11fbdf1f65d3 button.colab-df-convert');\n",
              "        buttonEl.style.display =\n",
              "          google.colab.kernel.accessAllowed ? 'block' : 'none';\n",
              "\n",
              "        async function convertToInteractive(key) {\n",
              "          const element = document.querySelector('#df-2e3dd219-d70c-4bcf-a32e-11fbdf1f65d3');\n",
              "          const dataTable =\n",
              "            await google.colab.kernel.invokeFunction('convertToInteractive',\n",
              "                                                     [key], {});\n",
              "          if (!dataTable) return;\n",
              "\n",
              "          const docLinkHtml = 'Like what you see? Visit the ' +\n",
              "            '<a target=\"_blank\" href=https://colab.research.google.com/notebooks/data_table.ipynb>data table notebook</a>'\n",
              "            + ' to learn more about interactive tables.';\n",
              "          element.innerHTML = '';\n",
              "          dataTable['output_type'] = 'display_data';\n",
              "          await google.colab.output.renderOutput(dataTable, element);\n",
              "          const docLink = document.createElement('div');\n",
              "          docLink.innerHTML = docLinkHtml;\n",
              "          element.appendChild(docLink);\n",
              "        }\n",
              "      </script>\n",
              "    </div>\n",
              "  </div>\n",
              "  "
            ]
          },
          "metadata": {},
          "execution_count": 75
        }
      ],
      "source": [
        "df.corr()"
      ]
    },
    {
      "cell_type": "code",
      "execution_count": 76,
      "id": "092ad920",
      "metadata": {
        "scrolled": true,
        "colab": {
          "base_uri": "https://localhost:8080/",
          "height": 1000
        },
        "id": "092ad920",
        "outputId": "a0a10b07-1920-4801-a9f2-664e8d47a168"
      },
      "outputs": [
        {
          "output_type": "display_data",
          "data": {
            "text/plain": [
              "<Figure size 1800x1800 with 2 Axes>"
            ],
            "image/png": "[encoded data removed]"
          },
          "metadata": {
            "needs_background": "light"
          }
        }
      ],
      "source": [
        "corr = df.corr()\n",
        "fig, ax = plt.subplots(figsize=(25, 25))\n",
        "sns.heatmap(corr, annot=True, ax=ax)\n",
        "plt.show()"
      ]
    },
    {
      "cell_type": "markdown",
      "id": "8aee4088",
      "metadata": {
        "id": "8aee4088"
      },
      "source": [
        "# encoding data"
      ]
    },
    {
      "cell_type": "code",
      "execution_count": 77,
      "id": "ee8bef90",
      "metadata": {
        "colab": {
          "base_uri": "https://localhost:8080/"
        },
        "id": "ee8bef90",
        "outputId": "739b3c15-8be9-43bb-ab4f-099deee543ae"
      },
      "outputs": [
        {
          "output_type": "execute_result",
          "data": {
            "text/plain": [
              "age                int64\n",
              "job                int64\n",
              "marital            int64\n",
              "education_qual     int64\n",
              "call_type          int64\n",
              "day                int64\n",
              "mon                int64\n",
              "dur                int64\n",
              "num_calls          int64\n",
              "prev_outcome       int64\n",
              "y                 object\n",
              "target             int64\n",
              "dtype: object"
            ]
          },
          "metadata": {},
          "execution_count": 77
        }
      ],
      "source": [
        "df.dtypes"
      ]
    },
    {
      "cell_type": "markdown",
      "id": "1e28ee4f",
      "metadata": {
        "id": "1e28ee4f"
      },
      "source": [
        "# Split data into training and testing sets"
      ]
    },
    {
      "cell_type": "code",
      "execution_count": 78,
      "id": "c41cda05",
      "metadata": {
        "id": "c41cda05"
      },
      "outputs": [],
      "source": [
        "X = df.drop(['target',\"y\"], axis=1)\n",
        "y = df['target']\n",
        "X_train, X_test, y_train, y_test = train_test_split(X, y, test_size=0.2, random_state=42)"
      ]
    },
    {
      "cell_type": "code",
      "execution_count": 79,
      "id": "aa010645",
      "metadata": {
        "colab": {
          "base_uri": "https://localhost:8080/"
        },
        "id": "aa010645",
        "outputId": "12609688-5526-4859-ac8d-2c28dba28922"
      },
      "outputs": [
        {
          "output_type": "execute_result",
          "data": {
            "text/plain": [
              "(36164, 36164)"
            ]
          },
          "metadata": {},
          "execution_count": 79
        }
      ],
      "source": [
        "len(X_train),len(y_train)\n"
      ]
    },
    {
      "cell_type": "code",
      "execution_count": 80,
      "id": "13c532ce",
      "metadata": {
        "scrolled": false,
        "colab": {
          "base_uri": "https://localhost:8080/"
        },
        "id": "13c532ce",
        "outputId": "9c181ee6-a66a-45e6-896d-da648b0cf147"
      },
      "outputs": [
        {
          "output_type": "execute_result",
          "data": {
            "text/plain": [
              "(9041, 9041)"
            ]
          },
          "metadata": {},
          "execution_count": 80
        }
      ],
      "source": [
        "len(X_test), len(y_test)"
      ]
    },
    {
      "cell_type": "markdown",
      "id": "82ed1ac0",
      "metadata": {
        "id": "82ed1ac0"
      },
      "source": [
        "# Scaling the data"
      ]
    },
    {
      "cell_type": "code",
      "execution_count": 81,
      "id": "e2a3386d",
      "metadata": {
        "scrolled": true,
        "id": "e2a3386d"
      },
      "outputs": [],
      "source": [
        "#  Scale numerical features\n",
        "scaler = StandardScaler()\n",
        "num_cols = ['age','job', 'marital', 'education_qual',\"num_calls\", \"dur\",'call_type', 'prev_outcome',\"day\", \"mon\"]\n",
        "X_train[num_cols] = scaler.fit_transform(X_train[num_cols])\n",
        "X_test[num_cols] = scaler.transform(X_test[num_cols])"
      ]
    },
    {
      "cell_type": "markdown",
      "id": "2e1b8ff6",
      "metadata": {
        "id": "2e1b8ff6"
      },
      "source": [
        "# Balancing target Data"
      ]
    },
    {
      "cell_type": "code",
      "execution_count": 82,
      "id": "f9e7c280",
      "metadata": {
        "scrolled": true,
        "id": "f9e7c280"
      },
      "outputs": [],
      "source": [
        "from imblearn.combine import SMOTEENN\n",
        "smt = SMOTEENN(sampling_strategy = \"all\")\n",
        "X_train, y_train = smt.fit_resample(X_train, y_train)"
      ]
    },
    {
      "cell_type": "code",
      "execution_count": 83,
      "id": "8a9777da",
      "metadata": {
        "colab": {
          "base_uri": "https://localhost:8080/"
        },
        "id": "8a9777da",
        "outputId": "31f54eca-b31c-4a36-9d15-c9238d44d0fd"
      },
      "outputs": [
        {
          "output_type": "execute_result",
          "data": {
            "text/plain": [
              "(56420, 56420)"
            ]
          },
          "metadata": {},
          "execution_count": 83
        }
      ],
      "source": [
        "len(X_train),len(y_train)\n"
      ]
    },
    {
      "cell_type": "code",
      "execution_count": 84,
      "id": "0cd12af8",
      "metadata": {
        "scrolled": false,
        "colab": {
          "base_uri": "https://localhost:8080/"
        },
        "id": "0cd12af8",
        "outputId": "3d347bd5-c379-44b0-a2a1-04ac216178bd"
      },
      "outputs": [
        {
          "output_type": "execute_result",
          "data": {
            "text/plain": [
              "(9041, 9041)"
            ]
          },
          "metadata": {},
          "execution_count": 84
        }
      ],
      "source": [
        "len(X_test), len(y_test)"
      ]
    },
    {
      "cell_type": "code",
      "execution_count": 85,
      "id": "ac6abdd0",
      "metadata": {
        "id": "ac6abdd0"
      },
      "outputs": [],
      "source": [
        "import warnings\n",
        "warnings.filterwarnings(\"ignore\")"
      ]
    },
    {
      "cell_type": "markdown",
      "id": "d38a99fd",
      "metadata": {
        "id": "d38a99fd"
      },
      "source": [
        "# Training models"
      ]
    },
    {
      "cell_type": "code",
      "execution_count": 86,
      "id": "b1efd75c",
      "metadata": {
        "id": "b1efd75c"
      },
      "outputs": [],
      "source": [
        "models = [\n",
        "('Logistic Regression', LogisticRegression()),\n",
        "('Decision Tree Classifier', DecisionTreeClassifier(random_state=42)),\n",
        "('Random Forest Classifier', RandomForestClassifier(random_state=42)),\n",
        "('Gradient Boosting Classifier', GradientBoostingClassifier(random_state=42)),\n",
        "('K-Nearest Neighbors Classifier', KNeighborsClassifier()),\n",
        "('XGBoost Classifier', XGBClassifier())\n",
        "]\n"
      ]
    },
    {
      "cell_type": "markdown",
      "id": "56f9c2b0",
      "metadata": {
        "id": "56f9c2b0"
      },
      "source": [
        "# evaluating performance"
      ]
    },
    {
      "cell_type": "code",
      "execution_count": 87,
      "id": "091203aa",
      "metadata": {
        "colab": {
          "base_uri": "https://localhost:8080/"
        },
        "id": "091203aa",
        "outputId": "a7618cb1-628b-427a-f49a-1403feeaf550"
      },
      "outputs": [
        {
          "output_type": "stream",
          "name": "stdout",
          "text": [
            "Logistic Regression AUC: 0.896\n",
            "Decision Tree Classifier AUC: 0.806\n",
            "Random Forest Classifier AUC: 0.920\n",
            "Gradient Boosting Classifier AUC: 0.910\n",
            "K-Nearest Neighbors Classifier AUC: 0.848\n",
            "XGBoost Classifier AUC: 0.925\n"
          ]
        }
      ],
      "source": [
        "train_scores = []\n",
        "test_scores = []\n",
        "for name, model in models:\n",
        "    model.fit(X_train, y_train)\n",
        "    train_pred = model.predict(X_train)\n",
        "    train_scores.append(roc_auc_score(y_train, train_pred))\n",
        "    test_pred = model.predict(X_test)\n",
        "    test_scores.append(roc_auc_score(y_test, test_pred))\n",
        "    y_prob = model.predict_proba(X_test)[:, 1]\n",
        "    auc_score = roc_auc_score(y_test, y_prob)\n",
        "    print(f'{name} AUC: {auc_score:.3f}')"
      ]
    },
    {
      "cell_type": "markdown",
      "id": "91f44f24",
      "metadata": {
        "id": "91f44f24"
      },
      "source": [
        "# Voting classifier algorithm\n"
      ]
    },
    {
      "cell_type": "code",
      "execution_count": 88,
      "id": "51ca83a3",
      "metadata": {
        "id": "51ca83a3"
      },
      "outputs": [],
      "source": [
        "model_1 = LogisticRegression(random_state = 42)\n",
        "model_2 = DecisionTreeClassifier(random_state = 42)\n",
        "model_3 = KNeighborsClassifier(5)\n",
        "model_4 = XGBClassifier(learning_rate = 0.75, n_estimators = 100, verbosity = 0)\n",
        "model_5 = RandomForestClassifier(n_estimators = 100, max_depth = 5, max_features = \"sqrt\")\n",
        "voting_model = VotingClassifier(estimators = [(\"lr\",model_1),(\"dt\", model_2), (\"knn\", model_3), (\"xgb\", model_4), (\"rf\", model_5)], voting = \"soft\")"
      ]
    },
    {
      "cell_type": "code",
      "execution_count": 89,
      "id": "621cf98a",
      "metadata": {
        "id": "621cf98a"
      },
      "outputs": [],
      "source": [
        "voting_model.fit(X_train, y_train)\n",
        "voting_model_y_pred = voting_model.predict(X_test)\n",
        "voting_model_AUROC = roc_auc_score(y_test, voting_model.predict_proba(X_test)[:,1])"
      ]
    },
    {
      "cell_type": "code",
      "execution_count": 90,
      "id": "2731bd35",
      "metadata": {
        "colab": {
          "base_uri": "https://localhost:8080/"
        },
        "id": "2731bd35",
        "outputId": "b2232ec3-001b-44cc-f94f-74f40f151d6f"
      },
      "outputs": [
        {
          "output_type": "execute_result",
          "data": {
            "text/plain": [
              "0.9170632922528078"
            ]
          },
          "metadata": {},
          "execution_count": 90
        }
      ],
      "source": [
        "voting_model_AUROC"
      ]
    },
    {
      "cell_type": "code",
      "execution_count": 91,
      "id": "5aa4f90b",
      "metadata": {
        "id": "5aa4f90b"
      },
      "outputs": [],
      "source": [
        "from sklearn.model_selection import learning_curve\n",
        "\n",
        "# Define the function to plot the learning curve\n",
        "def plot_learning_curve(estimator, title, X, y, ylim=None, cv=None, n_jobs=-1, train_sizes=np.linspace(.1, 1.0, 5)):\n",
        "    plt.figure()\n",
        "    plt.title(title)\n",
        "    if ylim is not None:\n",
        "        plt.ylim(*ylim)\n",
        "    plt.xlabel(\"Training examples\")\n",
        "    plt.ylabel(\"Score\")\n",
        "    train_sizes, train_scores, test_scores = learning_curve(\n",
        "        estimator, X, y, cv=cv, n_jobs=n_jobs, train_sizes=train_sizes)\n",
        "    train_scores_mean = np.mean(train_scores, axis=1)\n",
        "    train_scores_std = np.std(train_scores, axis=1)\n",
        "    test_scores_mean = np.mean(test_scores, axis=1)\n",
        "    test_scores_std = np.std(test_scores, axis=1)\n",
        "    plt.grid()\n",
        "    plt.fill_between(train_sizes, train_scores_mean - train_scores_std,\n",
        "                     train_scores_mean + train_scores_std, alpha=0.1,\n",
        "                     color=\"r\")\n",
        "    plt.fill_between(train_sizes, test_scores_mean - test_scores_std,\n",
        "                     test_scores_mean + test_scores_std, alpha=0.1, color=\"g\")\n",
        "    plt.plot(train_sizes, train_scores_mean, 'o-', color=\"r\",\n",
        "             label=\"Training score\")\n",
        "    plt.plot(train_sizes, test_scores_mean, 'o-', color=\"g\",\n",
        "             label=\"Cross-validation score\")\n",
        "    plt.legend(loc=\"best\")\n",
        "    return plt\n"
      ]
    },
    {
      "cell_type": "code",
      "execution_count": null,
      "id": "1d066ada",
      "metadata": {
        "id": "1d066ada"
      },
      "outputs": [],
      "source": [
        "\n",
        "# Define the estimator and data\n",
        "estimator = XGBClassifier()\n",
        "X, y = df.drop(['target','y'], axis=1), df['target']\n",
        "\n",
        "# Plot the learning curve\n",
        "plot_learning_curve(estimator, 'Learning Curve (XGBoost)', X, y, ylim=(0.7, 1.01), cv=5, n_jobs=-1)\n"
      ]
    },
    {
      "cell_type": "markdown",
      "id": "fb5fc979",
      "metadata": {
        "id": "fb5fc979"
      },
      "source": [
        "# Finding important features"
      ]
    },
    {
      "cell_type": "code",
      "execution_count": null,
      "id": "d71561cc",
      "metadata": {
        "id": "d71561cc"
      },
      "outputs": [],
      "source": [
        "logreg = LogisticRegression()\n",
        "logreg.fit(X_train, y_train)\n",
        "\n",
        "# Get feature importance\n",
        "coefficients = pd.DataFrame({'feature':  X_train.columns, 'importance': abs(logreg.coef_[0])*100})\n",
        "coefficients = coefficients.sort_values('importance', ascending=False)\n",
        "print(coefficients)"
      ]
    },
    {
      "cell_type": "code",
      "execution_count": null,
      "id": "5fc8de64",
      "metadata": {
        "id": "5fc8de64"
      },
      "outputs": [],
      "source": [
        "dt_classifier = DecisionTreeClassifier()\n",
        "dt_classifier.fit(X_train, y_train)\n",
        "\n",
        "# Get feature importance for classification model\n",
        "coefficients_classifier = pd.DataFrame({'feature': X_train.columns, 'importance': dt_classifier.feature_importances_*100})\n",
        "coefficients_classifier = coefficients_classifier.sort_values('importance', ascending=False)\n",
        "print(coefficients_classifier)"
      ]
    },
    {
      "cell_type": "code",
      "execution_count": null,
      "id": "71de1f6f",
      "metadata": {
        "id": "71de1f6f"
      },
      "outputs": [],
      "source": [
        "rf_classifier = RandomForestClassifier()\n",
        "rf_classifier.fit(X_train, y_train)\n",
        "\n",
        "# Get the feature importances\n",
        "importances = rf_classifier.feature_importances_\n",
        "\n",
        "# Print the feature importances\n",
        "for feature, importance in zip(X_train.columns, importances):\n",
        "    print(feature, \": \", importance*100)"
      ]
    },
    {
      "cell_type": "code",
      "execution_count": null,
      "id": "9bfe85a1",
      "metadata": {
        "id": "9bfe85a1"
      },
      "outputs": [],
      "source": [
        "gb = GradientBoostingClassifier()\n",
        "gb.fit(X_train, y_train)\n",
        "\n",
        "# Get the feature importances\n",
        "importances = gb.feature_importances_\n",
        "\n",
        "# Print the feature importances\n",
        "for feature, importance in zip(X_train.columns, importances):\n",
        "    print(feature, \": \", importance*100)\n"
      ]
    },
    {
      "cell_type": "code",
      "execution_count": null,
      "id": "b6fbda1c",
      "metadata": {
        "id": "b6fbda1c"
      },
      "outputs": [],
      "source": [
        "from sklearn.neighbors import KNeighborsClassifier\n",
        "\n",
        "knn = KNeighborsClassifier()\n",
        "knn.fit(X_train, y_train)\n",
        "\n",
        "# Get the feature importances\n",
        "importances = [1/k for k in knn.kneighbors(X_train)[0].sum(axis=1)]\n",
        "\n",
        "# Print the feature importances\n",
        "for feature, importance in zip(X.columns, importances):\n",
        "    print(feature, \": \", importance*10)\n"
      ]
    },
    {
      "cell_type": "code",
      "execution_count": null,
      "id": "58ea021f",
      "metadata": {
        "id": "58ea021f"
      },
      "outputs": [],
      "source": [
        "xgb = XGBClassifier()\n",
        "xgb.fit(X_train, y_train)\n",
        "\n",
        "# Get the feature importances\n",
        "importances = xgb.feature_importances_\n",
        "\n",
        "# Print the feature importances\n",
        "for feature, importance in zip(X_train.columns, importances):\n",
        "    print(feature, \": \", importance*100)\n"
      ]
    },
    {
      "cell_type": "markdown",
      "id": "79724833",
      "metadata": {
        "id": "79724833"
      },
      "source": [
        "# From the model feature importance dur has highest influence on customer conversion"
      ]
    },
    {
      "cell_type": "code",
      "execution_count": null,
      "id": "0c12e71c",
      "metadata": {
        "id": "0c12e71c"
      },
      "outputs": [],
      "source": []
    },
    {
      "cell_type": "code",
      "execution_count": null,
      "id": "e3ca53fc",
      "metadata": {
        "id": "e3ca53fc"
      },
      "outputs": [],
      "source": []
    }
  ],
  "metadata": {
    "kernelspec": {
      "display_name": "Python 3 (ipykernel)",
      "language": "python",
      "name": "python3"
    },
    "language_info": {
      "codemirror_mode": {
        "name": "ipython",
        "version": 3
      },
      "file_extension": ".py",
      "mimetype": "text/x-python",
      "name": "python",
      "nbconvert_exporter": "python",
      "pygments_lexer": "ipython3",
      "version": "3.11.0"
    },
    "colab": {
      "provenance": [],
      "include_colab_link": true
    }
  },
  "nbformat": 4,
  "nbformat_minor": 5
}